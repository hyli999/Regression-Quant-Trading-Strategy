{
 "cells": [
  {
   "cell_type": "code",
   "execution_count": 1,
   "id": "d99144ab",
   "metadata": {},
   "outputs": [],
   "source": [
    "\n",
    "import pandas as pd\n",
    "import numpy as np\n",
    "import scipy as sp\n",
    "from scipy import stats\n",
    "#import quandl\n",
    "#import functools\n",
    "import seaborn as sns\n",
    "#import itertools\n",
    "#from enum import Enum\n",
    "import seaborn as sns\n",
    "from datetime import date\n",
    "from datetime import timedelta\n",
    "import statsmodels.api as sm\n",
    "\n",
    "import matplotlib.pyplot as plt\n",
    "from matplotlib.patches import Rectangle\n",
    "from matplotlib.collections import PatchCollection\n",
    "from matplotlib import cm\n",
    "\n",
    "\n",
    "import warnings\n",
    "warnings.filterwarnings('ignore')\n",
    "\n",
    "%matplotlib inline"
   ]
  },
  {
   "cell_type": "code",
   "execution_count": 2,
   "id": "228c94a9",
   "metadata": {},
   "outputs": [],
   "source": [
    "path = '/Users/hongyuli/Documents/UChi/Winter_2022/FINM33150 Regression & Quant Trading/hw4/For_Homework/'"
   ]
  },
  {
   "cell_type": "code",
   "execution_count": 3,
   "id": "2821aecd",
   "metadata": {},
   "outputs": [],
   "source": [
    "#book_btc_usd = pd.read_csv(path+'book_narrow_BTC-USD_2021.delim',sep='\\t')\n",
    "#book_eth_btc = pd.read_csv(path+'book_narrow_ETH-BTC_2021.delim',sep='\\t')\n",
    "#book_eth_usd = pd.read_csv(path+'book_narrow_ETH-USD_2021.delim',sep='\\t')\n",
    "trades_btc_usd_df = pd.read_csv(path+'trades_narrow_BTC-USD_2021.delim',sep='\\t')\n",
    "trades_eth_btc_df = pd.read_csv(path+'trades_narrow_ETH-BTC_2021.delim',sep='\\t')\n",
    "trades_eth_usd_df = pd.read_csv(path+'trades_narrow_ETH-USD_2021.delim',sep='\\t')"
   ]
  },
  {
   "cell_type": "code",
   "execution_count": 4,
   "id": "02795529",
   "metadata": {},
   "outputs": [],
   "source": [
    "trades_btc_usd = trades_btc_usd_df.copy()#.set_index('timestamp_utc_nanoseconds')\n",
    "trades_eth_btc = trades_eth_btc_df.copy()#.set_index('timestamp_utc_nanoseconds')\n",
    "trades_eth_usd = trades_eth_usd_df.copy()#.set_index('timestamp_utc_nanoseconds')"
   ]
  },
  {
   "cell_type": "code",
   "execution_count": 5,
   "id": "7473b040",
   "metadata": {},
   "outputs": [],
   "source": [
    "#book_btc_usd.head()"
   ]
  },
  {
   "cell_type": "code",
   "execution_count": 6,
   "id": "41b6b1df",
   "metadata": {},
   "outputs": [
    {
     "data": {
      "text/html": [
       "<div>\n",
       "<style scoped>\n",
       "    .dataframe tbody tr th:only-of-type {\n",
       "        vertical-align: middle;\n",
       "    }\n",
       "\n",
       "    .dataframe tbody tr th {\n",
       "        vertical-align: top;\n",
       "    }\n",
       "\n",
       "    .dataframe thead th {\n",
       "        text-align: right;\n",
       "    }\n",
       "</style>\n",
       "<table border=\"1\" class=\"dataframe\">\n",
       "  <thead>\n",
       "    <tr style=\"text-align: right;\">\n",
       "      <th></th>\n",
       "      <th>received_utc_nanoseconds</th>\n",
       "      <th>timestamp_utc_nanoseconds</th>\n",
       "      <th>PriceMillionths</th>\n",
       "      <th>SizeBillionths</th>\n",
       "      <th>Side</th>\n",
       "    </tr>\n",
       "  </thead>\n",
       "  <tbody>\n",
       "    <tr>\n",
       "      <th>0</th>\n",
       "      <td>1618090136118837000</td>\n",
       "      <td>1618090132515484000</td>\n",
       "      <td>59120710000</td>\n",
       "      <td>9701240</td>\n",
       "      <td>-1.0</td>\n",
       "    </tr>\n",
       "    <tr>\n",
       "      <th>1</th>\n",
       "      <td>1618090136118594000</td>\n",
       "      <td>1618090132515484000</td>\n",
       "      <td>59125070000</td>\n",
       "      <td>8122450</td>\n",
       "      <td>-3.0</td>\n",
       "    </tr>\n",
       "    <tr>\n",
       "      <th>2</th>\n",
       "      <td>1618090136147838000</td>\n",
       "      <td>1618090132989553000</td>\n",
       "      <td>59119950000</td>\n",
       "      <td>6563880</td>\n",
       "      <td>-1.0</td>\n",
       "    </tr>\n",
       "    <tr>\n",
       "      <th>3</th>\n",
       "      <td>1618090136147583000</td>\n",
       "      <td>1618090132989553000</td>\n",
       "      <td>59125070000</td>\n",
       "      <td>614120</td>\n",
       "      <td>-1.0</td>\n",
       "    </tr>\n",
       "    <tr>\n",
       "      <th>4</th>\n",
       "      <td>1618090136153326000</td>\n",
       "      <td>1618090133074765000</td>\n",
       "      <td>59119950000</td>\n",
       "      <td>16995890</td>\n",
       "      <td>-1.0</td>\n",
       "    </tr>\n",
       "    <tr>\n",
       "      <th>5</th>\n",
       "      <td>1618090136185031000</td>\n",
       "      <td>1618090133470961000</td>\n",
       "      <td>59119960000</td>\n",
       "      <td>12790000</td>\n",
       "      <td>1.0</td>\n",
       "    </tr>\n",
       "    <tr>\n",
       "      <th>6</th>\n",
       "      <td>1618090136185285000</td>\n",
       "      <td>1618090133470961000</td>\n",
       "      <td>59122080000</td>\n",
       "      <td>3798090</td>\n",
       "      <td>1.0</td>\n",
       "    </tr>\n",
       "    <tr>\n",
       "      <th>7</th>\n",
       "      <td>1618090136194305000</td>\n",
       "      <td>1618090133557380000</td>\n",
       "      <td>59119960000</td>\n",
       "      <td>4517350</td>\n",
       "      <td>1.0</td>\n",
       "    </tr>\n",
       "    <tr>\n",
       "      <th>8</th>\n",
       "      <td>1618090136198771000</td>\n",
       "      <td>1618090133596148000</td>\n",
       "      <td>59119960000</td>\n",
       "      <td>2524570</td>\n",
       "      <td>1.0</td>\n",
       "    </tr>\n",
       "    <tr>\n",
       "      <th>9</th>\n",
       "      <td>1618090136201856000</td>\n",
       "      <td>1618090133613354000</td>\n",
       "      <td>59117620000</td>\n",
       "      <td>198200</td>\n",
       "      <td>-1.0</td>\n",
       "    </tr>\n",
       "  </tbody>\n",
       "</table>\n",
       "</div>"
      ],
      "text/plain": [
       "   received_utc_nanoseconds  timestamp_utc_nanoseconds  PriceMillionths  \\\n",
       "0       1618090136118837000        1618090132515484000      59120710000   \n",
       "1       1618090136118594000        1618090132515484000      59125070000   \n",
       "2       1618090136147838000        1618090132989553000      59119950000   \n",
       "3       1618090136147583000        1618090132989553000      59125070000   \n",
       "4       1618090136153326000        1618090133074765000      59119950000   \n",
       "5       1618090136185031000        1618090133470961000      59119960000   \n",
       "6       1618090136185285000        1618090133470961000      59122080000   \n",
       "7       1618090136194305000        1618090133557380000      59119960000   \n",
       "8       1618090136198771000        1618090133596148000      59119960000   \n",
       "9       1618090136201856000        1618090133613354000      59117620000   \n",
       "\n",
       "   SizeBillionths  Side  \n",
       "0         9701240  -1.0  \n",
       "1         8122450  -3.0  \n",
       "2         6563880  -1.0  \n",
       "3          614120  -1.0  \n",
       "4        16995890  -1.0  \n",
       "5        12790000   1.0  \n",
       "6         3798090   1.0  \n",
       "7         4517350   1.0  \n",
       "8         2524570   1.0  \n",
       "9          198200  -1.0  "
      ]
     },
     "execution_count": 6,
     "metadata": {},
     "output_type": "execute_result"
    }
   ],
   "source": [
    "trades_btc_usd.head(10)"
   ]
  },
  {
   "cell_type": "markdown",
   "id": "11c8e904",
   "metadata": {},
   "source": [
    "# Functions"
   ]
  },
  {
   "cell_type": "code",
   "execution_count": 7,
   "id": "bfb5a452",
   "metadata": {},
   "outputs": [],
   "source": [
    "def split_train(df,ratio):\n",
    "    \"\"\"split the dataframe into train and test datasets\"\"\"\n",
    "    len_data = len(df.index)\n",
    "    len_train = int(ratio*len_data)\n",
    "    train_data = df.iloc[:len_train]\n",
    "    test_data = df.iloc[len_train:]\n",
    "    \n",
    "    return train_data, test_data"
   ]
  },
  {
   "cell_type": "code",
   "execution_count": 8,
   "id": "5430bc93",
   "metadata": {},
   "outputs": [],
   "source": [
    "def calc_return(df1,T):\n",
    " \n",
    "    df_r = df1[['cum_log_return','timestamp_ns']]\n",
    "    df_r = df_r.drop_duplicates(subset='timestamp_ns',keep='last')\n",
    "    df_r = df_r.set_index('timestamp_ns')\n",
    "    \n",
    "    end_return = df_r.reindex(df_r.index + pd.Timedelta(str(T)+'s')).fillna(method='ffill')\n",
    "    end_return.index = df_r.index\n",
    "    r = end_return['cum_log_return']-df_r['cum_log_return']\n",
    "    \n",
    "    returns = pd.DataFrame({'return':r})\n",
    "    returns.dropna(axis=0, inplace=True)\n",
    "    \n",
    "    return returns"
   ]
  },
  {
   "cell_type": "code",
   "execution_count": 9,
   "id": "2b1054bf",
   "metadata": {},
   "outputs": [],
   "source": [
    "def calc_flow(df1,tau):\n",
    "#    df = df1.copy()\n",
    "#    df = df.drop_duplicates(subset='timestamp_ns',keep='last')\n",
    "#    df = df.set_index('timestamp_ns')\n",
    "    \n",
    "    df_f = df1[['cum_flow','timestamp_ns']]\n",
    "    df_f = df_f.drop_duplicates(subset='timestamp_ns',keep='last')\n",
    "    df_f = df_f.set_index('timestamp_ns')\n",
    "    \n",
    "    start_flow = df_f.reindex(df_f.index - pd.Timedelta(str(tau)+'s')).fillna(method='ffill')\n",
    "    start_flow.index = df_f.index\n",
    "    flow = df_f['cum_flow']-start_flow['cum_flow']\n",
    "    \n",
    "    \n",
    "    returns = pd.DataFrame({'flow':flow})\n",
    "    returns.dropna(axis=0, inplace=True)\n",
    "    \n",
    "    return returns"
   ]
  },
  {
   "cell_type": "code",
   "execution_count": 10,
   "id": "abf5c834",
   "metadata": {},
   "outputs": [],
   "source": [
    "def reg(df_train,df_test):\n",
    "    \n",
    "    pred = df_train.copy()\n",
    "    y = df_train['return']#.dropna()\n",
    "    x = sm.add_constant(df_train['flow'])#.loc[y.index]\n",
    "    reg = sm.OLS(y,x).fit()\n",
    "    beta = reg.params[1]\n",
    "    #alpha = reg.params[0]\n",
    "    pred['r_hat'] = reg.predict()\n",
    "    \n",
    "    test = df_test.copy()\n",
    "    test['r_hat'] = beta*test['flow']\n",
    "    \n",
    "    return pred, test, reg.summary()"
   ]
  },
  {
   "cell_type": "code",
   "execution_count": 11,
   "id": "c63bfabf",
   "metadata": {},
   "outputs": [],
   "source": [
    "def PnL_report(data):\n",
    "    \"\"\"exerpted from my homework in Portfolio Analysis course\"\"\"\n",
    "    df = data.copy()\n",
    "    df.index = data.index.date\n",
    "    report = pd.DataFrame(columns = df.columns)\n",
    "    \n",
    "    report.loc['Mean'] = df.mean()\n",
    "    report.loc['Vol'] = df.std() \n",
    "    report.loc['Sharpe'] = report.loc['Mean'] / report.loc['Vol']\n",
    "    report.loc['Skewness'] = df.skew()\n",
    "    report.loc['Excess Kurtosis'] = df.kurtosis()\n",
    "    report.loc['VaR'] = df.quantile(.05)\n",
    "    report.loc['Expected Shortfall'] = df[df < df.quantile(.05)].mean()\n",
    "    \n",
    "    rolling_max = df.cummax()\n",
    "    drawdown = df - rolling_max\n",
    "    report.loc['Max Drawdown'] = drawdown.min()\n",
    "\n",
    "    return round(report,4)"
   ]
  },
  {
   "cell_type": "code",
   "execution_count": 12,
   "id": "502b556c",
   "metadata": {},
   "outputs": [],
   "source": [
    "def calc_PnL(df1,tau,T,j,ratio):\n",
    "    df1_c = df1.copy()\n",
    "#    df2_c = df2.copy()\n",
    "    \n",
    "    flow_df = calc_flow(df1_c,tau)\n",
    "    r_df = calc_return(df1_c,T)\n",
    "    flow_df['return'] = r_df['return']\n",
    "    \n",
    "    \n",
    "    df1_c.set_index('timestamp_ns',inplace=True)\n",
    "    price_df = df1_c['price'].drop_duplicates(keep='last')\n",
    "    flow_df = flow_df.join(price_df,how='inner')\n",
    "    \n",
    "    train_df_1, test_df_1 = split_train(flow_df,ratio)\n",
    "    \n",
    "    p_1,t_1,_ = reg(train_df_1,test_df_1)\n",
    "    \n",
    "    exp_d_return_1 = t_1['price']*t_1['return']\n",
    "    t_1['exp_d_return'] = exp_d_return_1\n",
    "    t_1['PnL'] = np.where(t_1['r_hat']>j,t_1['exp_d_return'],0) - np.where(t_1['r_hat']<-j,t_1['exp_d_return'],0)\n",
    "    \n",
    "    t_1['cum_PnL'] = t_1['PnL'].cumsum()\n",
    "    \n",
    "    return t_1['cum_PnL'][-1], PnL_report(t_1[['PnL']])"
   ]
  },
  {
   "cell_type": "markdown",
   "id": "45e994a4",
   "metadata": {},
   "source": [
    "# Data Cleaning"
   ]
  },
  {
   "cell_type": "code",
   "execution_count": 13,
   "id": "4b3601e4",
   "metadata": {},
   "outputs": [],
   "source": [
    "trades = [trades_btc_usd,trades_eth_btc,trades_eth_usd]"
   ]
  },
  {
   "cell_type": "code",
   "execution_count": 14,
   "id": "c76ff5ca",
   "metadata": {},
   "outputs": [],
   "source": [
    "for trade in trades:\n",
    "    trade['price'] = trade['PriceMillionths']/1000000\n",
    "    trade['side_sign'] = (trade['Side']>0)*1+(trade['Side']<0)*(-1)\n",
    "    trade['cum_flow'] = trade['side_sign']*trade['SizeBillionths']\n",
    "    trade['cum_flow'] = trade['cum_flow'].cumsum()\n",
    "    trade['log_price'] = np.log(trade['price'])\n",
    "    trade['log_return'] = trade['log_price'].diff()\n",
    "    trade['cum_log_return'] = trade['log_return'].cumsum()\n",
    "#    trade['PriceBillionths'] = trade['PriceMillionths']/1000\n",
    "    trade['timestamp_ns'] = pd.to_datetime(trade['timestamp_utc_nanoseconds'],unit='ns')\n",
    "#    trade.set_index('timestamp_ns',inplace=True)\n",
    "    trade.drop(columns=['Side','received_utc_nanoseconds','PriceMillionths','timestamp_utc_nanoseconds','log_price','log_return'],inplace=True)"
   ]
  },
  {
   "cell_type": "code",
   "execution_count": 15,
   "id": "ac1614f0",
   "metadata": {},
   "outputs": [
    {
     "data": {
      "text/html": [
       "<div>\n",
       "<style scoped>\n",
       "    .dataframe tbody tr th:only-of-type {\n",
       "        vertical-align: middle;\n",
       "    }\n",
       "\n",
       "    .dataframe tbody tr th {\n",
       "        vertical-align: top;\n",
       "    }\n",
       "\n",
       "    .dataframe thead th {\n",
       "        text-align: right;\n",
       "    }\n",
       "</style>\n",
       "<table border=\"1\" class=\"dataframe\">\n",
       "  <thead>\n",
       "    <tr style=\"text-align: right;\">\n",
       "      <th></th>\n",
       "      <th>SizeBillionths</th>\n",
       "      <th>price</th>\n",
       "      <th>side_sign</th>\n",
       "      <th>cum_flow</th>\n",
       "      <th>cum_log_return</th>\n",
       "      <th>timestamp_ns</th>\n",
       "    </tr>\n",
       "  </thead>\n",
       "  <tbody>\n",
       "    <tr>\n",
       "      <th>0</th>\n",
       "      <td>9701240</td>\n",
       "      <td>59120.71</td>\n",
       "      <td>-1</td>\n",
       "      <td>-9701240</td>\n",
       "      <td>NaN</td>\n",
       "      <td>2021-04-10 21:28:52.515484</td>\n",
       "    </tr>\n",
       "    <tr>\n",
       "      <th>1</th>\n",
       "      <td>8122450</td>\n",
       "      <td>59125.07</td>\n",
       "      <td>-1</td>\n",
       "      <td>-17823690</td>\n",
       "      <td>0.000074</td>\n",
       "      <td>2021-04-10 21:28:52.515484</td>\n",
       "    </tr>\n",
       "    <tr>\n",
       "      <th>2</th>\n",
       "      <td>6563880</td>\n",
       "      <td>59119.95</td>\n",
       "      <td>-1</td>\n",
       "      <td>-24387570</td>\n",
       "      <td>-0.000013</td>\n",
       "      <td>2021-04-10 21:28:52.989553</td>\n",
       "    </tr>\n",
       "    <tr>\n",
       "      <th>3</th>\n",
       "      <td>614120</td>\n",
       "      <td>59125.07</td>\n",
       "      <td>-1</td>\n",
       "      <td>-25001690</td>\n",
       "      <td>0.000074</td>\n",
       "      <td>2021-04-10 21:28:52.989553</td>\n",
       "    </tr>\n",
       "    <tr>\n",
       "      <th>4</th>\n",
       "      <td>16995890</td>\n",
       "      <td>59119.95</td>\n",
       "      <td>-1</td>\n",
       "      <td>-41997580</td>\n",
       "      <td>-0.000013</td>\n",
       "      <td>2021-04-10 21:28:53.074765</td>\n",
       "    </tr>\n",
       "  </tbody>\n",
       "</table>\n",
       "</div>"
      ],
      "text/plain": [
       "   SizeBillionths     price  side_sign  cum_flow  cum_log_return  \\\n",
       "0         9701240  59120.71         -1  -9701240             NaN   \n",
       "1         8122450  59125.07         -1 -17823690        0.000074   \n",
       "2         6563880  59119.95         -1 -24387570       -0.000013   \n",
       "3          614120  59125.07         -1 -25001690        0.000074   \n",
       "4        16995890  59119.95         -1 -41997580       -0.000013   \n",
       "\n",
       "                timestamp_ns  \n",
       "0 2021-04-10 21:28:52.515484  \n",
       "1 2021-04-10 21:28:52.515484  \n",
       "2 2021-04-10 21:28:52.989553  \n",
       "3 2021-04-10 21:28:52.989553  \n",
       "4 2021-04-10 21:28:53.074765  "
      ]
     },
     "execution_count": 15,
     "metadata": {},
     "output_type": "execute_result"
    }
   ],
   "source": [
    "trades_btc_usd.head()"
   ]
  },
  {
   "cell_type": "markdown",
   "id": "f44aa06a",
   "metadata": {},
   "source": [
    "# Try on the BTC USD data with tau=1s, T=2s"
   ]
  },
  {
   "cell_type": "code",
   "execution_count": 16,
   "id": "1c3851d7",
   "metadata": {},
   "outputs": [],
   "source": [
    "flow_data = calc_flow(trades_btc_usd,1)"
   ]
  },
  {
   "cell_type": "code",
   "execution_count": 17,
   "id": "5778319b",
   "metadata": {},
   "outputs": [],
   "source": [
    "r_data = calc_return(trades_btc_usd,2)"
   ]
  },
  {
   "cell_type": "code",
   "execution_count": 18,
   "id": "3dc3f13a",
   "metadata": {},
   "outputs": [],
   "source": [
    "flow_data['return'] = r_data['return']\n",
    "#flow_data['price'] = r_data['price']"
   ]
  },
  {
   "cell_type": "code",
   "execution_count": 19,
   "id": "9ad6717b",
   "metadata": {},
   "outputs": [
    {
     "data": {
      "text/html": [
       "<div>\n",
       "<style scoped>\n",
       "    .dataframe tbody tr th:only-of-type {\n",
       "        vertical-align: middle;\n",
       "    }\n",
       "\n",
       "    .dataframe tbody tr th {\n",
       "        vertical-align: top;\n",
       "    }\n",
       "\n",
       "    .dataframe thead th {\n",
       "        text-align: right;\n",
       "    }\n",
       "</style>\n",
       "<table border=\"1\" class=\"dataframe\">\n",
       "  <thead>\n",
       "    <tr style=\"text-align: right;\">\n",
       "      <th></th>\n",
       "      <th>flow</th>\n",
       "      <th>return</th>\n",
       "    </tr>\n",
       "    <tr>\n",
       "      <th>timestamp_ns</th>\n",
       "      <th></th>\n",
       "      <th></th>\n",
       "    </tr>\n",
       "  </thead>\n",
       "  <tbody>\n",
       "    <tr>\n",
       "      <th>2021-04-13 16:10:31.608802</th>\n",
       "      <td>1.739766e+08</td>\n",
       "      <td>-0.013531</td>\n",
       "    </tr>\n",
       "    <tr>\n",
       "      <th>2021-04-13 16:10:31.638580</th>\n",
       "      <td>1.731222e+08</td>\n",
       "      <td>-0.013531</td>\n",
       "    </tr>\n",
       "    <tr>\n",
       "      <th>2021-04-13 16:10:31.797596</th>\n",
       "      <td>1.738751e+08</td>\n",
       "      <td>-0.013531</td>\n",
       "    </tr>\n",
       "    <tr>\n",
       "      <th>2021-04-13 16:10:32.722960</th>\n",
       "      <td>1.421947e+08</td>\n",
       "      <td>-0.013531</td>\n",
       "    </tr>\n",
       "    <tr>\n",
       "      <th>2021-04-13 16:10:32.979534</th>\n",
       "      <td>1.153847e+08</td>\n",
       "      <td>-0.013531</td>\n",
       "    </tr>\n",
       "    <tr>\n",
       "      <th>...</th>\n",
       "      <td>...</td>\n",
       "      <td>...</td>\n",
       "    </tr>\n",
       "    <tr>\n",
       "      <th>2021-04-27 00:22:15.081535</th>\n",
       "      <td>2.701576e+12</td>\n",
       "      <td>-0.035414</td>\n",
       "    </tr>\n",
       "    <tr>\n",
       "      <th>2021-04-27 00:22:16.402878</th>\n",
       "      <td>2.701455e+12</td>\n",
       "      <td>-0.035256</td>\n",
       "    </tr>\n",
       "    <tr>\n",
       "      <th>2021-04-27 00:22:16.428058</th>\n",
       "      <td>2.701457e+12</td>\n",
       "      <td>-0.035256</td>\n",
       "    </tr>\n",
       "    <tr>\n",
       "      <th>2021-04-27 00:22:16.667433</th>\n",
       "      <td>2.701460e+12</td>\n",
       "      <td>-0.035205</td>\n",
       "    </tr>\n",
       "    <tr>\n",
       "      <th>2021-04-27 00:22:17.851269</th>\n",
       "      <td>2.701465e+12</td>\n",
       "      <td>-0.035138</td>\n",
       "    </tr>\n",
       "  </tbody>\n",
       "</table>\n",
       "<p>4413708 rows × 2 columns</p>\n",
       "</div>"
      ],
      "text/plain": [
       "                                    flow    return\n",
       "timestamp_ns                                      \n",
       "2021-04-13 16:10:31.608802  1.739766e+08 -0.013531\n",
       "2021-04-13 16:10:31.638580  1.731222e+08 -0.013531\n",
       "2021-04-13 16:10:31.797596  1.738751e+08 -0.013531\n",
       "2021-04-13 16:10:32.722960  1.421947e+08 -0.013531\n",
       "2021-04-13 16:10:32.979534  1.153847e+08 -0.013531\n",
       "...                                  ...       ...\n",
       "2021-04-27 00:22:15.081535  2.701576e+12 -0.035414\n",
       "2021-04-27 00:22:16.402878  2.701455e+12 -0.035256\n",
       "2021-04-27 00:22:16.428058  2.701457e+12 -0.035256\n",
       "2021-04-27 00:22:16.667433  2.701460e+12 -0.035205\n",
       "2021-04-27 00:22:17.851269  2.701465e+12 -0.035138\n",
       "\n",
       "[4413708 rows x 2 columns]"
      ]
     },
     "execution_count": 19,
     "metadata": {},
     "output_type": "execute_result"
    }
   ],
   "source": [
    "flow_data"
   ]
  },
  {
   "cell_type": "code",
   "execution_count": 20,
   "id": "54ea864a",
   "metadata": {},
   "outputs": [],
   "source": [
    "trades_btc_usd_df = trades_btc_usd.set_index('timestamp_ns')"
   ]
  },
  {
   "cell_type": "code",
   "execution_count": 21,
   "id": "3f36e3eb",
   "metadata": {},
   "outputs": [
    {
     "data": {
      "text/html": [
       "<div>\n",
       "<style scoped>\n",
       "    .dataframe tbody tr th:only-of-type {\n",
       "        vertical-align: middle;\n",
       "    }\n",
       "\n",
       "    .dataframe tbody tr th {\n",
       "        vertical-align: top;\n",
       "    }\n",
       "\n",
       "    .dataframe thead th {\n",
       "        text-align: right;\n",
       "    }\n",
       "</style>\n",
       "<table border=\"1\" class=\"dataframe\">\n",
       "  <thead>\n",
       "    <tr style=\"text-align: right;\">\n",
       "      <th></th>\n",
       "      <th>SizeBillionths</th>\n",
       "      <th>price</th>\n",
       "      <th>side_sign</th>\n",
       "      <th>cum_flow</th>\n",
       "      <th>cum_log_return</th>\n",
       "    </tr>\n",
       "    <tr>\n",
       "      <th>timestamp_ns</th>\n",
       "      <th></th>\n",
       "      <th></th>\n",
       "      <th></th>\n",
       "      <th></th>\n",
       "      <th></th>\n",
       "    </tr>\n",
       "  </thead>\n",
       "  <tbody>\n",
       "    <tr>\n",
       "      <th>2021-04-10 21:28:52.515484</th>\n",
       "      <td>9701240</td>\n",
       "      <td>59120.71</td>\n",
       "      <td>-1</td>\n",
       "      <td>-9701240</td>\n",
       "      <td>NaN</td>\n",
       "    </tr>\n",
       "    <tr>\n",
       "      <th>2021-04-10 21:28:52.515484</th>\n",
       "      <td>8122450</td>\n",
       "      <td>59125.07</td>\n",
       "      <td>-1</td>\n",
       "      <td>-17823690</td>\n",
       "      <td>0.000074</td>\n",
       "    </tr>\n",
       "    <tr>\n",
       "      <th>2021-04-10 21:28:52.989553</th>\n",
       "      <td>6563880</td>\n",
       "      <td>59119.95</td>\n",
       "      <td>-1</td>\n",
       "      <td>-24387570</td>\n",
       "      <td>-0.000013</td>\n",
       "    </tr>\n",
       "    <tr>\n",
       "      <th>2021-04-10 21:28:52.989553</th>\n",
       "      <td>614120</td>\n",
       "      <td>59125.07</td>\n",
       "      <td>-1</td>\n",
       "      <td>-25001690</td>\n",
       "      <td>0.000074</td>\n",
       "    </tr>\n",
       "    <tr>\n",
       "      <th>2021-04-10 21:28:53.074765</th>\n",
       "      <td>16995890</td>\n",
       "      <td>59119.95</td>\n",
       "      <td>-1</td>\n",
       "      <td>-41997580</td>\n",
       "      <td>-0.000013</td>\n",
       "    </tr>\n",
       "  </tbody>\n",
       "</table>\n",
       "</div>"
      ],
      "text/plain": [
       "                            SizeBillionths     price  side_sign  cum_flow  \\\n",
       "timestamp_ns                                                                \n",
       "2021-04-10 21:28:52.515484         9701240  59120.71         -1  -9701240   \n",
       "2021-04-10 21:28:52.515484         8122450  59125.07         -1 -17823690   \n",
       "2021-04-10 21:28:52.989553         6563880  59119.95         -1 -24387570   \n",
       "2021-04-10 21:28:52.989553          614120  59125.07         -1 -25001690   \n",
       "2021-04-10 21:28:53.074765        16995890  59119.95         -1 -41997580   \n",
       "\n",
       "                            cum_log_return  \n",
       "timestamp_ns                                \n",
       "2021-04-10 21:28:52.515484             NaN  \n",
       "2021-04-10 21:28:52.515484        0.000074  \n",
       "2021-04-10 21:28:52.989553       -0.000013  \n",
       "2021-04-10 21:28:52.989553        0.000074  \n",
       "2021-04-10 21:28:53.074765       -0.000013  "
      ]
     },
     "execution_count": 21,
     "metadata": {},
     "output_type": "execute_result"
    }
   ],
   "source": [
    "trades_btc_usd_df.head()"
   ]
  },
  {
   "cell_type": "code",
   "execution_count": 22,
   "id": "d7d270a4",
   "metadata": {},
   "outputs": [],
   "source": [
    "price_data = trades_btc_usd_df['price'].drop_duplicates(keep='last')"
   ]
  },
  {
   "cell_type": "code",
   "execution_count": 23,
   "id": "4db9f852",
   "metadata": {},
   "outputs": [
    {
     "data": {
      "text/plain": [
       "timestamp_ns\n",
       "2021-04-10 21:28:52.515484    59120.71\n",
       "2021-04-10 21:28:52.989553    59125.07\n",
       "2021-04-10 21:28:53.470961    59122.08\n",
       "2021-04-10 21:28:55.577343    59123.81\n",
       "2021-04-10 21:28:56.830404    59121.86\n",
       "                                ...   \n",
       "2021-04-27 00:22:15.081535    53745.89\n",
       "2021-04-27 00:22:16.402878    53734.71\n",
       "2021-04-27 00:22:16.428058    53737.42\n",
       "2021-04-27 00:22:16.667433    53734.66\n",
       "2021-04-27 00:22:17.851269    53731.07\n",
       "Name: price, Length: 1141727, dtype: float64"
      ]
     },
     "execution_count": 23,
     "metadata": {},
     "output_type": "execute_result"
    }
   ],
   "source": [
    "price_data"
   ]
  },
  {
   "cell_type": "code",
   "execution_count": 24,
   "id": "b401b210",
   "metadata": {},
   "outputs": [],
   "source": [
    "flow_data = flow_data.join(price_data,how='inner')"
   ]
  },
  {
   "cell_type": "code",
   "execution_count": 25,
   "id": "b147a8f3",
   "metadata": {},
   "outputs": [
    {
     "data": {
      "text/html": [
       "<div>\n",
       "<style scoped>\n",
       "    .dataframe tbody tr th:only-of-type {\n",
       "        vertical-align: middle;\n",
       "    }\n",
       "\n",
       "    .dataframe tbody tr th {\n",
       "        vertical-align: top;\n",
       "    }\n",
       "\n",
       "    .dataframe thead th {\n",
       "        text-align: right;\n",
       "    }\n",
       "</style>\n",
       "<table border=\"1\" class=\"dataframe\">\n",
       "  <thead>\n",
       "    <tr style=\"text-align: right;\">\n",
       "      <th></th>\n",
       "      <th>flow</th>\n",
       "      <th>return</th>\n",
       "      <th>price</th>\n",
       "    </tr>\n",
       "    <tr>\n",
       "      <th>timestamp_ns</th>\n",
       "      <th></th>\n",
       "      <th></th>\n",
       "      <th></th>\n",
       "    </tr>\n",
       "  </thead>\n",
       "  <tbody>\n",
       "    <tr>\n",
       "      <th>2021-04-13 16:10:32.979534</th>\n",
       "      <td>1.153847e+08</td>\n",
       "      <td>-0.013531</td>\n",
       "      <td>63441.29</td>\n",
       "    </tr>\n",
       "    <tr>\n",
       "      <th>2021-04-13 16:11:45.367443</th>\n",
       "      <td>7.887908e+09</td>\n",
       "      <td>-0.013116</td>\n",
       "      <td>63414.98</td>\n",
       "    </tr>\n",
       "    <tr>\n",
       "      <th>2021-04-13 16:11:51.994195</th>\n",
       "      <td>7.545634e+09</td>\n",
       "      <td>-0.013098</td>\n",
       "      <td>63413.82</td>\n",
       "    </tr>\n",
       "    <tr>\n",
       "      <th>2021-04-13 16:12:08.364793</th>\n",
       "      <td>9.063145e+09</td>\n",
       "      <td>-0.013792</td>\n",
       "      <td>63457.89</td>\n",
       "    </tr>\n",
       "    <tr>\n",
       "      <th>2021-04-13 16:13:15.712803</th>\n",
       "      <td>1.369128e+10</td>\n",
       "      <td>-0.014079</td>\n",
       "      <td>63476.08</td>\n",
       "    </tr>\n",
       "    <tr>\n",
       "      <th>...</th>\n",
       "      <td>...</td>\n",
       "      <td>...</td>\n",
       "      <td>...</td>\n",
       "    </tr>\n",
       "    <tr>\n",
       "      <th>2021-04-27 00:22:15.081535</th>\n",
       "      <td>2.701576e+12</td>\n",
       "      <td>-0.035414</td>\n",
       "      <td>53745.89</td>\n",
       "    </tr>\n",
       "    <tr>\n",
       "      <th>2021-04-27 00:22:16.402878</th>\n",
       "      <td>2.701455e+12</td>\n",
       "      <td>-0.035256</td>\n",
       "      <td>53734.71</td>\n",
       "    </tr>\n",
       "    <tr>\n",
       "      <th>2021-04-27 00:22:16.428058</th>\n",
       "      <td>2.701457e+12</td>\n",
       "      <td>-0.035256</td>\n",
       "      <td>53737.42</td>\n",
       "    </tr>\n",
       "    <tr>\n",
       "      <th>2021-04-27 00:22:16.667433</th>\n",
       "      <td>2.701460e+12</td>\n",
       "      <td>-0.035205</td>\n",
       "      <td>53734.66</td>\n",
       "    </tr>\n",
       "    <tr>\n",
       "      <th>2021-04-27 00:22:17.851269</th>\n",
       "      <td>2.701465e+12</td>\n",
       "      <td>-0.035138</td>\n",
       "      <td>53731.07</td>\n",
       "    </tr>\n",
       "  </tbody>\n",
       "</table>\n",
       "<p>1067818 rows × 3 columns</p>\n",
       "</div>"
      ],
      "text/plain": [
       "                                    flow    return     price\n",
       "timestamp_ns                                                \n",
       "2021-04-13 16:10:32.979534  1.153847e+08 -0.013531  63441.29\n",
       "2021-04-13 16:11:45.367443  7.887908e+09 -0.013116  63414.98\n",
       "2021-04-13 16:11:51.994195  7.545634e+09 -0.013098  63413.82\n",
       "2021-04-13 16:12:08.364793  9.063145e+09 -0.013792  63457.89\n",
       "2021-04-13 16:13:15.712803  1.369128e+10 -0.014079  63476.08\n",
       "...                                  ...       ...       ...\n",
       "2021-04-27 00:22:15.081535  2.701576e+12 -0.035414  53745.89\n",
       "2021-04-27 00:22:16.402878  2.701455e+12 -0.035256  53734.71\n",
       "2021-04-27 00:22:16.428058  2.701457e+12 -0.035256  53737.42\n",
       "2021-04-27 00:22:16.667433  2.701460e+12 -0.035205  53734.66\n",
       "2021-04-27 00:22:17.851269  2.701465e+12 -0.035138  53731.07\n",
       "\n",
       "[1067818 rows x 3 columns]"
      ]
     },
     "execution_count": 25,
     "metadata": {},
     "output_type": "execute_result"
    }
   ],
   "source": [
    "flow_data"
   ]
  },
  {
   "cell_type": "code",
   "execution_count": 26,
   "id": "3d952323",
   "metadata": {},
   "outputs": [],
   "source": [
    "#flow_data.head()"
   ]
  },
  {
   "cell_type": "code",
   "execution_count": 27,
   "id": "89f49a2d",
   "metadata": {},
   "outputs": [],
   "source": [
    "train_df, test_df = split_train(flow_data,.2)"
   ]
  },
  {
   "cell_type": "code",
   "execution_count": 28,
   "id": "eb7b977c",
   "metadata": {},
   "outputs": [],
   "source": [
    "p,t,summary = reg(train_df,test_df)"
   ]
  },
  {
   "cell_type": "code",
   "execution_count": 29,
   "id": "be012067",
   "metadata": {},
   "outputs": [
    {
     "data": {
      "text/html": [
       "<table class=\"simpletable\">\n",
       "<caption>OLS Regression Results</caption>\n",
       "<tr>\n",
       "  <th>Dep. Variable:</th>         <td>return</td>      <th>  R-squared:         </th>  <td>   0.088</td> \n",
       "</tr>\n",
       "<tr>\n",
       "  <th>Model:</th>                   <td>OLS</td>       <th>  Adj. R-squared:    </th>  <td>   0.088</td> \n",
       "</tr>\n",
       "<tr>\n",
       "  <th>Method:</th>             <td>Least Squares</td>  <th>  F-statistic:       </th>  <td>2.066e+04</td>\n",
       "</tr>\n",
       "<tr>\n",
       "  <th>Date:</th>             <td>Sat, 12 Feb 2022</td> <th>  Prob (F-statistic):</th>   <td>  0.00</td>  \n",
       "</tr>\n",
       "<tr>\n",
       "  <th>Time:</th>                 <td>20:46:05</td>     <th>  Log-Likelihood:    </th> <td>6.1943e+05</td>\n",
       "</tr>\n",
       "<tr>\n",
       "  <th>No. Observations:</th>      <td>213563</td>      <th>  AIC:               </th> <td>-1.239e+06</td>\n",
       "</tr>\n",
       "<tr>\n",
       "  <th>Df Residuals:</th>          <td>213561</td>      <th>  BIC:               </th> <td>-1.239e+06</td>\n",
       "</tr>\n",
       "<tr>\n",
       "  <th>Df Model:</th>              <td>     1</td>      <th>                     </th>      <td> </td>    \n",
       "</tr>\n",
       "<tr>\n",
       "  <th>Covariance Type:</th>      <td>nonrobust</td>    <th>                     </th>      <td> </td>    \n",
       "</tr>\n",
       "</table>\n",
       "<table class=\"simpletable\">\n",
       "<tr>\n",
       "    <td></td>       <th>coef</th>     <th>std err</th>      <th>t</th>      <th>P>|t|</th>  <th>[0.025</th>    <th>0.975]</th>  \n",
       "</tr>\n",
       "<tr>\n",
       "  <th>const</th> <td>    0.0027</td> <td> 3.65e-05</td> <td>   74.822</td> <td> 0.000</td> <td>    0.003</td> <td>    0.003</td>\n",
       "</tr>\n",
       "<tr>\n",
       "  <th>flow</th>  <td> -1.26e-14</td> <td> 8.77e-17</td> <td> -143.721</td> <td> 0.000</td> <td>-1.28e-14</td> <td>-1.24e-14</td>\n",
       "</tr>\n",
       "</table>\n",
       "<table class=\"simpletable\">\n",
       "<tr>\n",
       "  <th>Omnibus:</th>       <td>142376.522</td> <th>  Durbin-Watson:     </th> <td>   0.000</td> \n",
       "</tr>\n",
       "<tr>\n",
       "  <th>Prob(Omnibus):</th>   <td> 0.000</td>   <th>  Jarque-Bera (JB):  </th> <td>12114.081</td>\n",
       "</tr>\n",
       "<tr>\n",
       "  <th>Skew:</th>            <td> 0.002</td>   <th>  Prob(JB):          </th> <td>    0.00</td> \n",
       "</tr>\n",
       "<tr>\n",
       "  <th>Kurtosis:</th>        <td> 1.833</td>   <th>  Cond. No.          </th> <td>5.26e+11</td> \n",
       "</tr>\n",
       "</table><br/><br/>Notes:<br/>[1] Standard Errors assume that the covariance matrix of the errors is correctly specified.<br/>[2] The condition number is large, 5.26e+11. This might indicate that there are<br/>strong multicollinearity or other numerical problems."
      ],
      "text/plain": [
       "<class 'statsmodels.iolib.summary.Summary'>\n",
       "\"\"\"\n",
       "                            OLS Regression Results                            \n",
       "==============================================================================\n",
       "Dep. Variable:                 return   R-squared:                       0.088\n",
       "Model:                            OLS   Adj. R-squared:                  0.088\n",
       "Method:                 Least Squares   F-statistic:                 2.066e+04\n",
       "Date:                Sat, 12 Feb 2022   Prob (F-statistic):               0.00\n",
       "Time:                        20:46:05   Log-Likelihood:             6.1943e+05\n",
       "No. Observations:              213563   AIC:                        -1.239e+06\n",
       "Df Residuals:                  213561   BIC:                        -1.239e+06\n",
       "Df Model:                           1                                         \n",
       "Covariance Type:            nonrobust                                         \n",
       "==============================================================================\n",
       "                 coef    std err          t      P>|t|      [0.025      0.975]\n",
       "------------------------------------------------------------------------------\n",
       "const          0.0027   3.65e-05     74.822      0.000       0.003       0.003\n",
       "flow        -1.26e-14   8.77e-17   -143.721      0.000   -1.28e-14   -1.24e-14\n",
       "==============================================================================\n",
       "Omnibus:                   142376.522   Durbin-Watson:                   0.000\n",
       "Prob(Omnibus):                  0.000   Jarque-Bera (JB):            12114.081\n",
       "Skew:                           0.002   Prob(JB):                         0.00\n",
       "Kurtosis:                       1.833   Cond. No.                     5.26e+11\n",
       "==============================================================================\n",
       "\n",
       "Notes:\n",
       "[1] Standard Errors assume that the covariance matrix of the errors is correctly specified.\n",
       "[2] The condition number is large, 5.26e+11. This might indicate that there are\n",
       "strong multicollinearity or other numerical problems.\n",
       "\"\"\""
      ]
     },
     "execution_count": 29,
     "metadata": {},
     "output_type": "execute_result"
    }
   ],
   "source": [
    "summary"
   ]
  },
  {
   "cell_type": "markdown",
   "id": "0f7ec798",
   "metadata": {},
   "source": [
    "We have a negative beta with p-value of 0. This indicates that beta is statistically significant, and we should include it in our in-sample model. However, R-squared is only 8.8%, and we ought to include other factors into consideration when running the regression"
   ]
  },
  {
   "cell_type": "code",
   "execution_count": 30,
   "id": "6bb50fc1",
   "metadata": {},
   "outputs": [],
   "source": [
    "p['residuals'] = p['return']-p['r_hat']"
   ]
  },
  {
   "cell_type": "code",
   "execution_count": 31,
   "id": "4ebe8299",
   "metadata": {},
   "outputs": [
    {
     "data": {
      "text/html": [
       "<div>\n",
       "<style scoped>\n",
       "    .dataframe tbody tr th:only-of-type {\n",
       "        vertical-align: middle;\n",
       "    }\n",
       "\n",
       "    .dataframe tbody tr th {\n",
       "        vertical-align: top;\n",
       "    }\n",
       "\n",
       "    .dataframe thead th {\n",
       "        text-align: right;\n",
       "    }\n",
       "</style>\n",
       "<table border=\"1\" class=\"dataframe\">\n",
       "  <thead>\n",
       "    <tr style=\"text-align: right;\">\n",
       "      <th></th>\n",
       "      <th>flow</th>\n",
       "      <th>return</th>\n",
       "      <th>price</th>\n",
       "      <th>r_hat</th>\n",
       "      <th>residuals</th>\n",
       "    </tr>\n",
       "    <tr>\n",
       "      <th>timestamp_ns</th>\n",
       "      <th></th>\n",
       "      <th></th>\n",
       "      <th></th>\n",
       "      <th></th>\n",
       "      <th></th>\n",
       "    </tr>\n",
       "  </thead>\n",
       "  <tbody>\n",
       "    <tr>\n",
       "      <th>2021-04-13 16:10:32.979534</th>\n",
       "      <td>1.153847e+08</td>\n",
       "      <td>-0.013531</td>\n",
       "      <td>63441.29</td>\n",
       "      <td>0.002726</td>\n",
       "      <td>-0.016256</td>\n",
       "    </tr>\n",
       "    <tr>\n",
       "      <th>2021-04-13 16:11:45.367443</th>\n",
       "      <td>7.887908e+09</td>\n",
       "      <td>-0.013116</td>\n",
       "      <td>63414.98</td>\n",
       "      <td>0.002628</td>\n",
       "      <td>-0.015744</td>\n",
       "    </tr>\n",
       "    <tr>\n",
       "      <th>2021-04-13 16:11:51.994195</th>\n",
       "      <td>7.545634e+09</td>\n",
       "      <td>-0.013098</td>\n",
       "      <td>63413.82</td>\n",
       "      <td>0.002632</td>\n",
       "      <td>-0.015730</td>\n",
       "    </tr>\n",
       "    <tr>\n",
       "      <th>2021-04-13 16:12:08.364793</th>\n",
       "      <td>9.063145e+09</td>\n",
       "      <td>-0.013792</td>\n",
       "      <td>63457.89</td>\n",
       "      <td>0.002613</td>\n",
       "      <td>-0.016405</td>\n",
       "    </tr>\n",
       "    <tr>\n",
       "      <th>2021-04-13 16:13:15.712803</th>\n",
       "      <td>1.369128e+10</td>\n",
       "      <td>-0.014079</td>\n",
       "      <td>63476.08</td>\n",
       "      <td>0.002555</td>\n",
       "      <td>-0.016634</td>\n",
       "    </tr>\n",
       "    <tr>\n",
       "      <th>...</th>\n",
       "      <td>...</td>\n",
       "      <td>...</td>\n",
       "      <td>...</td>\n",
       "      <td>...</td>\n",
       "      <td>...</td>\n",
       "    </tr>\n",
       "    <tr>\n",
       "      <th>2021-04-17 01:00:17.650475</th>\n",
       "      <td>1.090418e+11</td>\n",
       "      <td>0.007815</td>\n",
       "      <td>61598.76</td>\n",
       "      <td>0.001353</td>\n",
       "      <td>0.006462</td>\n",
       "    </tr>\n",
       "    <tr>\n",
       "      <th>2021-04-17 01:00:17.881596</th>\n",
       "      <td>1.090378e+11</td>\n",
       "      <td>0.007861</td>\n",
       "      <td>61594.87</td>\n",
       "      <td>0.001353</td>\n",
       "      <td>0.006508</td>\n",
       "    </tr>\n",
       "    <tr>\n",
       "      <th>2021-04-17 01:00:17.881596</th>\n",
       "      <td>1.090378e+11</td>\n",
       "      <td>0.007861</td>\n",
       "      <td>61595.90</td>\n",
       "      <td>0.001353</td>\n",
       "      <td>0.006508</td>\n",
       "    </tr>\n",
       "    <tr>\n",
       "      <th>2021-04-17 01:00:18.296314</th>\n",
       "      <td>1.090382e+11</td>\n",
       "      <td>0.007867</td>\n",
       "      <td>61595.51</td>\n",
       "      <td>0.001353</td>\n",
       "      <td>0.006514</td>\n",
       "    </tr>\n",
       "    <tr>\n",
       "      <th>2021-04-17 01:00:19.419192</th>\n",
       "      <td>1.090443e+11</td>\n",
       "      <td>0.007814</td>\n",
       "      <td>61598.77</td>\n",
       "      <td>0.001353</td>\n",
       "      <td>0.006462</td>\n",
       "    </tr>\n",
       "  </tbody>\n",
       "</table>\n",
       "<p>213563 rows × 5 columns</p>\n",
       "</div>"
      ],
      "text/plain": [
       "                                    flow    return     price     r_hat  \\\n",
       "timestamp_ns                                                             \n",
       "2021-04-13 16:10:32.979534  1.153847e+08 -0.013531  63441.29  0.002726   \n",
       "2021-04-13 16:11:45.367443  7.887908e+09 -0.013116  63414.98  0.002628   \n",
       "2021-04-13 16:11:51.994195  7.545634e+09 -0.013098  63413.82  0.002632   \n",
       "2021-04-13 16:12:08.364793  9.063145e+09 -0.013792  63457.89  0.002613   \n",
       "2021-04-13 16:13:15.712803  1.369128e+10 -0.014079  63476.08  0.002555   \n",
       "...                                  ...       ...       ...       ...   \n",
       "2021-04-17 01:00:17.650475  1.090418e+11  0.007815  61598.76  0.001353   \n",
       "2021-04-17 01:00:17.881596  1.090378e+11  0.007861  61594.87  0.001353   \n",
       "2021-04-17 01:00:17.881596  1.090378e+11  0.007861  61595.90  0.001353   \n",
       "2021-04-17 01:00:18.296314  1.090382e+11  0.007867  61595.51  0.001353   \n",
       "2021-04-17 01:00:19.419192  1.090443e+11  0.007814  61598.77  0.001353   \n",
       "\n",
       "                            residuals  \n",
       "timestamp_ns                           \n",
       "2021-04-13 16:10:32.979534  -0.016256  \n",
       "2021-04-13 16:11:45.367443  -0.015744  \n",
       "2021-04-13 16:11:51.994195  -0.015730  \n",
       "2021-04-13 16:12:08.364793  -0.016405  \n",
       "2021-04-13 16:13:15.712803  -0.016634  \n",
       "...                               ...  \n",
       "2021-04-17 01:00:17.650475   0.006462  \n",
       "2021-04-17 01:00:17.881596   0.006508  \n",
       "2021-04-17 01:00:17.881596   0.006508  \n",
       "2021-04-17 01:00:18.296314   0.006514  \n",
       "2021-04-17 01:00:19.419192   0.006462  \n",
       "\n",
       "[213563 rows x 5 columns]"
      ]
     },
     "execution_count": 31,
     "metadata": {},
     "output_type": "execute_result"
    }
   ],
   "source": [
    "p"
   ]
  },
  {
   "cell_type": "code",
   "execution_count": 32,
   "id": "cd47606c",
   "metadata": {},
   "outputs": [],
   "source": [
    "t['residuals'] = t['return']-t['r_hat']"
   ]
  },
  {
   "cell_type": "code",
   "execution_count": 33,
   "id": "cd6d46c0",
   "metadata": {},
   "outputs": [
    {
     "data": {
      "text/html": [
       "<div>\n",
       "<style scoped>\n",
       "    .dataframe tbody tr th:only-of-type {\n",
       "        vertical-align: middle;\n",
       "    }\n",
       "\n",
       "    .dataframe tbody tr th {\n",
       "        vertical-align: top;\n",
       "    }\n",
       "\n",
       "    .dataframe thead th {\n",
       "        text-align: right;\n",
       "    }\n",
       "</style>\n",
       "<table border=\"1\" class=\"dataframe\">\n",
       "  <thead>\n",
       "    <tr style=\"text-align: right;\">\n",
       "      <th></th>\n",
       "      <th>flow</th>\n",
       "      <th>return</th>\n",
       "      <th>price</th>\n",
       "      <th>r_hat</th>\n",
       "      <th>residuals</th>\n",
       "    </tr>\n",
       "    <tr>\n",
       "      <th>timestamp_ns</th>\n",
       "      <th></th>\n",
       "      <th></th>\n",
       "      <th></th>\n",
       "      <th></th>\n",
       "      <th></th>\n",
       "    </tr>\n",
       "  </thead>\n",
       "  <tbody>\n",
       "    <tr>\n",
       "      <th>2021-04-17 01:00:19.685756</th>\n",
       "      <td>1.090447e+11</td>\n",
       "      <td>0.007741</td>\n",
       "      <td>61603.27</td>\n",
       "      <td>-0.001374</td>\n",
       "      <td>0.009116</td>\n",
       "    </tr>\n",
       "    <tr>\n",
       "      <th>2021-04-17 01:00:19.928668</th>\n",
       "      <td>1.090106e+11</td>\n",
       "      <td>0.007742</td>\n",
       "      <td>61599.07</td>\n",
       "      <td>-0.001374</td>\n",
       "      <td>0.009116</td>\n",
       "    </tr>\n",
       "    <tr>\n",
       "      <th>2021-04-17 01:00:19.928668</th>\n",
       "      <td>1.090106e+11</td>\n",
       "      <td>0.007742</td>\n",
       "      <td>61603.21</td>\n",
       "      <td>-0.001374</td>\n",
       "      <td>0.009116</td>\n",
       "    </tr>\n",
       "    <tr>\n",
       "      <th>2021-04-17 01:00:19.933113</th>\n",
       "      <td>1.090108e+11</td>\n",
       "      <td>0.007742</td>\n",
       "      <td>61603.22</td>\n",
       "      <td>-0.001374</td>\n",
       "      <td>0.009116</td>\n",
       "    </tr>\n",
       "    <tr>\n",
       "      <th>2021-04-17 01:00:20.369901</th>\n",
       "      <td>1.090110e+11</td>\n",
       "      <td>0.007714</td>\n",
       "      <td>61604.97</td>\n",
       "      <td>-0.001374</td>\n",
       "      <td>0.009088</td>\n",
       "    </tr>\n",
       "    <tr>\n",
       "      <th>...</th>\n",
       "      <td>...</td>\n",
       "      <td>...</td>\n",
       "      <td>...</td>\n",
       "      <td>...</td>\n",
       "      <td>...</td>\n",
       "    </tr>\n",
       "    <tr>\n",
       "      <th>2021-04-27 00:22:15.081535</th>\n",
       "      <td>2.701576e+12</td>\n",
       "      <td>-0.035414</td>\n",
       "      <td>53745.89</td>\n",
       "      <td>-0.034052</td>\n",
       "      <td>-0.001362</td>\n",
       "    </tr>\n",
       "    <tr>\n",
       "      <th>2021-04-27 00:22:16.402878</th>\n",
       "      <td>2.701455e+12</td>\n",
       "      <td>-0.035256</td>\n",
       "      <td>53734.71</td>\n",
       "      <td>-0.034050</td>\n",
       "      <td>-0.001206</td>\n",
       "    </tr>\n",
       "    <tr>\n",
       "      <th>2021-04-27 00:22:16.428058</th>\n",
       "      <td>2.701457e+12</td>\n",
       "      <td>-0.035256</td>\n",
       "      <td>53737.42</td>\n",
       "      <td>-0.034050</td>\n",
       "      <td>-0.001206</td>\n",
       "    </tr>\n",
       "    <tr>\n",
       "      <th>2021-04-27 00:22:16.667433</th>\n",
       "      <td>2.701460e+12</td>\n",
       "      <td>-0.035205</td>\n",
       "      <td>53734.66</td>\n",
       "      <td>-0.034050</td>\n",
       "      <td>-0.001155</td>\n",
       "    </tr>\n",
       "    <tr>\n",
       "      <th>2021-04-27 00:22:17.851269</th>\n",
       "      <td>2.701465e+12</td>\n",
       "      <td>-0.035138</td>\n",
       "      <td>53731.07</td>\n",
       "      <td>-0.034050</td>\n",
       "      <td>-0.001088</td>\n",
       "    </tr>\n",
       "  </tbody>\n",
       "</table>\n",
       "<p>854255 rows × 5 columns</p>\n",
       "</div>"
      ],
      "text/plain": [
       "                                    flow    return     price     r_hat  \\\n",
       "timestamp_ns                                                             \n",
       "2021-04-17 01:00:19.685756  1.090447e+11  0.007741  61603.27 -0.001374   \n",
       "2021-04-17 01:00:19.928668  1.090106e+11  0.007742  61599.07 -0.001374   \n",
       "2021-04-17 01:00:19.928668  1.090106e+11  0.007742  61603.21 -0.001374   \n",
       "2021-04-17 01:00:19.933113  1.090108e+11  0.007742  61603.22 -0.001374   \n",
       "2021-04-17 01:00:20.369901  1.090110e+11  0.007714  61604.97 -0.001374   \n",
       "...                                  ...       ...       ...       ...   \n",
       "2021-04-27 00:22:15.081535  2.701576e+12 -0.035414  53745.89 -0.034052   \n",
       "2021-04-27 00:22:16.402878  2.701455e+12 -0.035256  53734.71 -0.034050   \n",
       "2021-04-27 00:22:16.428058  2.701457e+12 -0.035256  53737.42 -0.034050   \n",
       "2021-04-27 00:22:16.667433  2.701460e+12 -0.035205  53734.66 -0.034050   \n",
       "2021-04-27 00:22:17.851269  2.701465e+12 -0.035138  53731.07 -0.034050   \n",
       "\n",
       "                            residuals  \n",
       "timestamp_ns                           \n",
       "2021-04-17 01:00:19.685756   0.009116  \n",
       "2021-04-17 01:00:19.928668   0.009116  \n",
       "2021-04-17 01:00:19.928668   0.009116  \n",
       "2021-04-17 01:00:19.933113   0.009116  \n",
       "2021-04-17 01:00:20.369901   0.009088  \n",
       "...                               ...  \n",
       "2021-04-27 00:22:15.081535  -0.001362  \n",
       "2021-04-27 00:22:16.402878  -0.001206  \n",
       "2021-04-27 00:22:16.428058  -0.001206  \n",
       "2021-04-27 00:22:16.667433  -0.001155  \n",
       "2021-04-27 00:22:17.851269  -0.001088  \n",
       "\n",
       "[854255 rows x 5 columns]"
      ]
     },
     "execution_count": 33,
     "metadata": {},
     "output_type": "execute_result"
    }
   ],
   "source": [
    "t"
   ]
  },
  {
   "cell_type": "code",
   "execution_count": null,
   "id": "57cc385b",
   "metadata": {},
   "outputs": [],
   "source": []
  },
  {
   "cell_type": "code",
   "execution_count": 34,
   "id": "fd84af96",
   "metadata": {},
   "outputs": [
    {
     "data": {
      "text/plain": [
       "[]"
      ]
     },
     "execution_count": 34,
     "metadata": {},
     "output_type": "execute_result"
    },
    {
     "data": {
      "image/png": "[encoded data removed]",
      "text/plain": [
       "<Figure size 1152x576 with 1 Axes>"
      ]
     },
     "metadata": {
      "needs_background": "light"
     },
     "output_type": "display_data"
    }
   ],
   "source": [
    "plt.figure()\n",
    "train_r = p['return'].plot(figsize=(16,8))\n",
    "train_r = p['r_hat'].plot()\n",
    "train_r.set_title('Predicated Return on BTC-USD (train data)')\n",
    "train_r.set_ylabel('Log Return')\n",
    "plt.legend(loc=\"upper right\", borderaxespad=0)\n",
    "plt.plot()"
   ]
  },
  {
   "cell_type": "markdown",
   "id": "9824285b",
   "metadata": {},
   "source": [
    "The trend of in-sample data is generally consistent with the predicted values, but is less volatile compared to the true return"
   ]
  },
  {
   "cell_type": "code",
   "execution_count": 35,
   "id": "138bcd83",
   "metadata": {},
   "outputs": [
    {
     "data": {
      "text/plain": [
       "<matplotlib.legend.Legend at 0x7fc6319e5970>"
      ]
     },
     "execution_count": 35,
     "metadata": {},
     "output_type": "execute_result"
    },
    {
     "data": {
      "image/png": "[encoded data removed]",
      "text/plain": [
       "<Figure size 576x576 with 1 Axes>"
      ]
     },
     "metadata": {
      "needs_background": "light"
     },
     "output_type": "display_data"
    }
   ],
   "source": [
    "fig, ax = plt.subplots(figsize=(8, 8))\n",
    "ax.scatter(p['return'],p['r_hat'],s=20,alpha=0.025,label='Training data')\n",
    "ax.scatter(t['return'],t['r_hat'],s=20,alpha=0.025,label='Test data')\n",
    "lims = [\n",
    "    np.min([ax.get_xlim(), ax.get_ylim()]),  # min of both axes\n",
    "    np.max([ax.get_xlim(), ax.get_ylim()]),  # max of both axes\n",
    "]\n",
    "\n",
    "ax.plot(lims, lims, 'k-', alpha=0.75, zorder=0)\n",
    "ax.set_aspect('equal')\n",
    "ax.set_xlim(lims)\n",
    "ax.set_ylim(lims)\n",
    "\n",
    "ax.set_title('Comparing Training and Test Sets Returns')\n",
    "ax.set_xlabel('Training predicted return')\n",
    "ax.set_ylabel('Test predicted return')\n",
    "\n",
    "plt.legend(loc=\"upper right\")"
   ]
  },
  {
   "cell_type": "markdown",
   "id": "e8d1143f",
   "metadata": {},
   "source": [
    "### Analyzing residuals"
   ]
  },
  {
   "cell_type": "markdown",
   "id": "39c0ac9a",
   "metadata": {},
   "source": [
    "#### Training Data"
   ]
  },
  {
   "cell_type": "code",
   "execution_count": 36,
   "id": "5a7a7fbc",
   "metadata": {},
   "outputs": [],
   "source": [
    "resid_p = p.loc[:,'residuals']\n",
    "mu = resid_p.mean()\n",
    "sigma = resid_p.std()\n",
    "prob = np.linspace(0,1,len(resid_p.values))"
   ]
  },
  {
   "cell_type": "code",
   "execution_count": 37,
   "id": "d9a26b03",
   "metadata": {},
   "outputs": [
    {
     "data": {
      "text/plain": [
       "<matplotlib.collections.LineCollection at 0x7fc664ec5790>"
      ]
     },
     "execution_count": 37,
     "metadata": {},
     "output_type": "execute_result"
    },
    {
     "data": {
      "image/png": "[encoded data removed]",
      "text/plain": [
       "<Figure size 432x288 with 1 Axes>"
      ]
     },
     "metadata": {
      "needs_background": "light"
     },
     "output_type": "display_data"
    }
   ],
   "source": [
    "plt.figure()\n",
    "plt.scatter(range(len(resid_p.values)),resid_p);\n",
    "plt.hlines(y=0, xmin=0, xmax=250000, color='r')"
   ]
  },
  {
   "cell_type": "markdown",
   "id": "c8856740",
   "metadata": {},
   "source": [
    "More negative residuals at the center and more positive residuals at tails"
   ]
  },
  {
   "cell_type": "code",
   "execution_count": 38,
   "id": "02a3dc1b",
   "metadata": {},
   "outputs": [
    {
     "data": {
      "image/png": "[encoded data removed]",
      "text/plain": [
       "<Figure size 432x288 with 1 Axes>"
      ]
     },
     "metadata": {
      "needs_background": "light"
     },
     "output_type": "display_data"
    }
   ],
   "source": [
    "plt.scatter(range(len(resid_p.values)),resid_p**2);"
   ]
  },
  {
   "cell_type": "markdown",
   "id": "fb067483",
   "metadata": {},
   "source": [
    "The magnitude of the residuals does not show a clear patter as time goes by"
   ]
  },
  {
   "cell_type": "code",
   "execution_count": 39,
   "id": "3140a2af",
   "metadata": {},
   "outputs": [
    {
     "data": {
      "text/plain": [
       "-1.1667670348147203"
      ]
     },
     "execution_count": 39,
     "metadata": {},
     "output_type": "execute_result"
    }
   ],
   "source": [
    "resid_p.kurtosis()"
   ]
  },
  {
   "cell_type": "markdown",
   "id": "19f4dd01",
   "metadata": {},
   "source": [
    "The residual has negative kurtosis,which means that the distribution is flatter than a normal curve with the same mean and standard deviation"
   ]
  },
  {
   "cell_type": "code",
   "execution_count": 40,
   "id": "a3f20abd",
   "metadata": {},
   "outputs": [],
   "source": [
    "resid_p = resid_p.sort_values()"
   ]
  },
  {
   "cell_type": "code",
   "execution_count": 41,
   "id": "0a639d11",
   "metadata": {},
   "outputs": [
    {
     "data": {
      "image/png": "[encoded data removed]",
      "text/plain": [
       "<Figure size 432x288 with 1 Axes>"
      ]
     },
     "metadata": {
      "needs_background": "light"
     },
     "output_type": "display_data"
    }
   ],
   "source": [
    "fig, ax = plt.subplots()\n",
    "plt.step(resid_p,prob);\n",
    "x = np.linspace(sigma*stats.norm.ppf(0.001),\n",
    "                sigma * stats.norm.ppf(0.99), 100)\n",
    "ax.plot(x, stats.norm.cdf((x-mu)/sigma),\n",
    "      'r-', lw=5, alpha=0.6, label='norm cdf');\n",
    "ax.legend();"
   ]
  },
  {
   "cell_type": "code",
   "execution_count": 42,
   "id": "1506cc2e",
   "metadata": {},
   "outputs": [],
   "source": [
    "#resid_p.kurtosis()"
   ]
  },
  {
   "cell_type": "markdown",
   "id": "560f20fd",
   "metadata": {},
   "source": [
    "The pattern of the residuals is clearly not normal, and has less weight at the center compared to the close left and right around the center"
   ]
  },
  {
   "cell_type": "code",
   "execution_count": 43,
   "id": "02d71a49",
   "metadata": {},
   "outputs": [
    {
     "data": {
      "image/png": "[encoded data removed]",
      "text/plain": [
       "<Figure size 432x288 with 1 Axes>"
      ]
     },
     "metadata": {
      "needs_background": "light"
     },
     "output_type": "display_data"
    }
   ],
   "source": [
    "fig, ax = plt.subplots()\n",
    "plt.hist(resid_p,bins=20,density=True);\n",
    "\n",
    "x = np.linspace(sigma*stats.norm.ppf(0.001),\n",
    "                sigma * stats.norm.ppf(0.999), 100)\n",
    "ax.plot(x, stats.norm.pdf(x/sigma)/sigma,\n",
    "      'r-', lw=5, alpha=0.6, label='norm pdf');\n",
    "ax.legend();"
   ]
  },
  {
   "cell_type": "markdown",
   "id": "82d6691b",
   "metadata": {},
   "source": [
    "The comparsion with normal pdf is clearer, showing we rarely make the exactly correct predictions on the return. We do make some negative as well as some positive excess returns compared to our predictions. "
   ]
  },
  {
   "cell_type": "code",
   "execution_count": 44,
   "id": "ab3b06de",
   "metadata": {},
   "outputs": [
    {
     "data": {
      "text/plain": [
       "0.513661074249753"
      ]
     },
     "execution_count": 44,
     "metadata": {},
     "output_type": "execute_result"
    }
   ],
   "source": [
    "(resid_p>0).sum()/((resid_p>0).sum()+(resid_p<=0).sum())"
   ]
  },
  {
   "cell_type": "markdown",
   "id": "3bdac305",
   "metadata": {},
   "source": [
    "About 51.37% of the times, we make higher returns compared to our predictions, which is consistent with the training data"
   ]
  },
  {
   "cell_type": "markdown",
   "id": "4072edcd",
   "metadata": {},
   "source": [
    "#### Test Data"
   ]
  },
  {
   "cell_type": "code",
   "execution_count": 45,
   "id": "ab5056a4",
   "metadata": {},
   "outputs": [
    {
     "data": {
      "image/png": "[encoded data removed]",
      "text/plain": [
       "<Figure size 1152x576 with 1 Axes>"
      ]
     },
     "metadata": {
      "needs_background": "light"
     },
     "output_type": "display_data"
    }
   ],
   "source": [
    "plt.figure()\n",
    "r = t['return'].plot(figsize=(16,8))\n",
    "r = t['r_hat'].plot()\n",
    "r.set_title('Predicated Return on BTC-USD (test data)')\n",
    "r.set_ylabel('Log Return')\n",
    "plt.legend(loc=\"upper right\", borderaxespad=0)\n",
    "plt.show()"
   ]
  },
  {
   "cell_type": "code",
   "execution_count": 46,
   "id": "f90d5c8b",
   "metadata": {},
   "outputs": [],
   "source": [
    "resid_t = t.loc[:,'residuals']\n",
    "mu = resid_t.mean()\n",
    "sigma = resid_t.std()\n",
    "prob = np.linspace(0,1,len(resid_t.values))"
   ]
  },
  {
   "cell_type": "code",
   "execution_count": 47,
   "id": "a93d77e8",
   "metadata": {},
   "outputs": [
    {
     "data": {
      "text/plain": [
       "<matplotlib.collections.LineCollection at 0x7fc6778f4a90>"
      ]
     },
     "execution_count": 47,
     "metadata": {},
     "output_type": "execute_result"
    },
    {
     "data": {
      "image/png": "[encoded data removed]",
      "text/plain": [
       "<Figure size 432x288 with 1 Axes>"
      ]
     },
     "metadata": {
      "needs_background": "light"
     },
     "output_type": "display_data"
    }
   ],
   "source": [
    "plt.figure()\n",
    "plt.scatter(range(len(resid_t.values)),resid_t);\n",
    "plt.hlines(y=0, xmin=0, xmax=900000, color='r')"
   ]
  },
  {
   "cell_type": "code",
   "execution_count": 48,
   "id": "c9a79cd1",
   "metadata": {},
   "outputs": [
    {
     "data": {
      "image/png": "[encoded data removed]",
      "text/plain": [
       "<Figure size 432x288 with 1 Axes>"
      ]
     },
     "metadata": {
      "needs_background": "light"
     },
     "output_type": "display_data"
    }
   ],
   "source": [
    "plt.scatter(range(len(resid_t.values)),resid_t**2);"
   ]
  },
  {
   "cell_type": "markdown",
   "id": "4784008a",
   "metadata": {},
   "source": [
    "Higher residuals in absolute terms at the left tail. And much higher values of the residuals compared with the training data set"
   ]
  },
  {
   "cell_type": "code",
   "execution_count": 49,
   "id": "75d3f2fc",
   "metadata": {},
   "outputs": [],
   "source": [
    "resid_t = resid_t.sort_values()"
   ]
  },
  {
   "cell_type": "code",
   "execution_count": 50,
   "id": "c87c8e5c",
   "metadata": {},
   "outputs": [
    {
     "data": {
      "image/png": "[encoded data removed]",
      "text/plain": [
       "<Figure size 432x288 with 1 Axes>"
      ]
     },
     "metadata": {
      "needs_background": "light"
     },
     "output_type": "display_data"
    }
   ],
   "source": [
    "fig, ax = plt.subplots()\n",
    "plt.step(resid_t,prob);\n",
    "x = np.linspace(sigma*stats.norm.ppf(0.001),\n",
    "                sigma * stats.norm.ppf(0.99), 100)\n",
    "ax.plot(x, stats.norm.cdf((x-mu)/sigma),\n",
    "      'r-', lw=5, alpha=0.6, label='norm cdf');\n",
    "ax.legend();"
   ]
  },
  {
   "cell_type": "code",
   "execution_count": 51,
   "id": "f5d095ac",
   "metadata": {},
   "outputs": [
    {
     "data": {
      "image/png": "[encoded data removed]",
      "text/plain": [
       "<Figure size 432x288 with 1 Axes>"
      ]
     },
     "metadata": {
      "needs_background": "light"
     },
     "output_type": "display_data"
    }
   ],
   "source": [
    "fig, ax = plt.subplots()\n",
    "plt.hist(resid_t,bins=20,density=True);\n",
    "\n",
    "x = np.linspace(sigma*stats.norm.ppf(0.001),\n",
    "                sigma * stats.norm.ppf(0.999), 100)\n",
    "ax.plot(x, stats.norm.pdf(x/sigma)/sigma,\n",
    "      'r-', lw=5, alpha=0.6, label='norm pdf');\n",
    "ax.legend();"
   ]
  },
  {
   "cell_type": "code",
   "execution_count": 52,
   "id": "288c28cf",
   "metadata": {},
   "outputs": [
    {
     "data": {
      "text/plain": [
       "0.4717923804952854"
      ]
     },
     "execution_count": 52,
     "metadata": {},
     "output_type": "execute_result"
    }
   ],
   "source": [
    "(resid_t>0).sum()/((resid_t>0).sum()+(resid_t<=0).sum())"
   ]
  },
  {
   "cell_type": "markdown",
   "id": "fba3cc29",
   "metadata": {},
   "source": [
    "There are fewer cases where we have positive excess returns relative to our predictions (47.18%)"
   ]
  },
  {
   "cell_type": "code",
   "execution_count": 53,
   "id": "ec43a88a",
   "metadata": {},
   "outputs": [
    {
     "data": {
      "text/plain": [
       "21.428261838728872"
      ]
     },
     "execution_count": 53,
     "metadata": {},
     "output_type": "execute_result"
    }
   ],
   "source": [
    "resid_t.sum()"
   ]
  },
  {
   "cell_type": "markdown",
   "id": "e11ce436",
   "metadata": {},
   "source": [
    "However, the magnitude of the residuals are much higher compared to the negative ones, resulting in a positive cumulative PnL in general"
   ]
  },
  {
   "cell_type": "markdown",
   "id": "e9d8b78b",
   "metadata": {},
   "source": [
    "The residuals on the test dataset is closer to normal compared with the training dataset, but has more extreme positive values."
   ]
  },
  {
   "cell_type": "markdown",
   "id": "9fe0845c",
   "metadata": {},
   "source": [
    "### Try j=1%"
   ]
  },
  {
   "cell_type": "markdown",
   "id": "25456a26",
   "metadata": {},
   "source": [
    "Trade if r_hat > j or r_hat <-j"
   ]
  },
  {
   "cell_type": "code",
   "execution_count": 54,
   "id": "fd11eea3",
   "metadata": {},
   "outputs": [],
   "source": [
    "j = 0.01\n",
    "greater_j = t[t['r_hat']>j]\n",
    "smaller_neg_j = t[t['r_hat']<-j]"
   ]
  },
  {
   "cell_type": "code",
   "execution_count": 55,
   "id": "bdd39de8",
   "metadata": {},
   "outputs": [
    {
     "data": {
      "text/plain": [
       "<matplotlib.legend.Legend at 0x7fc66286e160>"
      ]
     },
     "execution_count": 55,
     "metadata": {},
     "output_type": "execute_result"
    },
    {
     "data": {
      "image/png": "[encoded data removed]",
      "text/plain": [
       "<Figure size 360x360 with 1 Axes>"
      ]
     },
     "metadata": {
      "needs_background": "light"
     },
     "output_type": "display_data"
    }
   ],
   "source": [
    "sns.displot(greater_j['return'],label='r_hat > j')\n",
    "plt.axvline(0, c='r',label='r=0')\n",
    "plt.axvline(greater_j['return'].mean(), c='y',label='mean')\n",
    "plt.legend(loc=\"upper right\", borderaxespad=0)"
   ]
  },
  {
   "cell_type": "markdown",
   "id": "46185cf6",
   "metadata": {},
   "source": [
    "For the case where r_hat>j, the mean of the return is positive, which implies that the direction of our strategy is generally correct in this case"
   ]
  },
  {
   "cell_type": "code",
   "execution_count": 56,
   "id": "0020b833",
   "metadata": {},
   "outputs": [
    {
     "data": {
      "text/plain": [
       "<matplotlib.legend.Legend at 0x7fc630cc4e20>"
      ]
     },
     "execution_count": 56,
     "metadata": {},
     "output_type": "execute_result"
    },
    {
     "data": {
      "image/png": "[encoded data removed]",
      "text/plain": [
       "<Figure size 360x360 with 1 Axes>"
      ]
     },
     "metadata": {
      "needs_background": "light"
     },
     "output_type": "display_data"
    }
   ],
   "source": [
    "sns.displot(smaller_neg_j['return'],label='r_hat < -j')\n",
    "plt.axvline(0, c='r',label='r=0')\n",
    "plt.axvline(smaller_neg_j['return'].mean(), c='y',label='mean')\n",
    "plt.legend(loc=\"upper right\", borderaxespad=0)"
   ]
  },
  {
   "cell_type": "markdown",
   "id": "2ee1047a",
   "metadata": {},
   "source": [
    "For the case where r_hat<-j, the mean of the return is negative, which implies that the direction of our strategy is generally correct in this case. The magnitude of the negative mean is much larger than the positive mean. In this case, our profits comes more from shorting the negative parts"
   ]
  },
  {
   "cell_type": "code",
   "execution_count": null,
   "id": "24f898a2",
   "metadata": {},
   "outputs": [],
   "source": []
  },
  {
   "cell_type": "markdown",
   "id": "4cab7987",
   "metadata": {},
   "source": [
    "### OOS PnL"
   ]
  },
  {
   "cell_type": "markdown",
   "id": "6625006c",
   "metadata": {},
   "source": [
    "#### Out-of-Sample PnL"
   ]
  },
  {
   "cell_type": "code",
   "execution_count": 57,
   "id": "92c65f14",
   "metadata": {},
   "outputs": [],
   "source": [
    "exp_d_return = t['price']*t['return']"
   ]
  },
  {
   "cell_type": "code",
   "execution_count": 58,
   "id": "33ca53f0",
   "metadata": {},
   "outputs": [],
   "source": [
    "t = t.drop_duplicates(keep='last')"
   ]
  },
  {
   "cell_type": "code",
   "execution_count": 59,
   "id": "573b774b",
   "metadata": {},
   "outputs": [],
   "source": [
    "t['exp_d_return'] = exp_d_return#[t['r_hat']>j] - PnL[t['r_hat']<-j]\n",
    "\n",
    "t['PnL'] = np.where(t['r_hat']>j,t['exp_d_return'],0) - np.where(t['r_hat']<-j,t['exp_d_return'],0)"
   ]
  },
  {
   "cell_type": "code",
   "execution_count": 60,
   "id": "9033d44c",
   "metadata": {},
   "outputs": [],
   "source": [
    "t['cum_PnL'] = t['PnL'].cumsum()"
   ]
  },
  {
   "cell_type": "code",
   "execution_count": 61,
   "id": "a97e3001",
   "metadata": {},
   "outputs": [
    {
     "data": {
      "text/html": [
       "<div>\n",
       "<style scoped>\n",
       "    .dataframe tbody tr th:only-of-type {\n",
       "        vertical-align: middle;\n",
       "    }\n",
       "\n",
       "    .dataframe tbody tr th {\n",
       "        vertical-align: top;\n",
       "    }\n",
       "\n",
       "    .dataframe thead th {\n",
       "        text-align: right;\n",
       "    }\n",
       "</style>\n",
       "<table border=\"1\" class=\"dataframe\">\n",
       "  <thead>\n",
       "    <tr style=\"text-align: right;\">\n",
       "      <th></th>\n",
       "      <th>flow</th>\n",
       "      <th>return</th>\n",
       "      <th>price</th>\n",
       "      <th>r_hat</th>\n",
       "      <th>residuals</th>\n",
       "      <th>exp_d_return</th>\n",
       "      <th>PnL</th>\n",
       "      <th>cum_PnL</th>\n",
       "    </tr>\n",
       "    <tr>\n",
       "      <th>timestamp_ns</th>\n",
       "      <th></th>\n",
       "      <th></th>\n",
       "      <th></th>\n",
       "      <th></th>\n",
       "      <th></th>\n",
       "      <th></th>\n",
       "      <th></th>\n",
       "      <th></th>\n",
       "    </tr>\n",
       "  </thead>\n",
       "  <tbody>\n",
       "    <tr>\n",
       "      <th>2021-04-17 01:00:19.685756</th>\n",
       "      <td>1.090447e+11</td>\n",
       "      <td>0.007741</td>\n",
       "      <td>61603.27</td>\n",
       "      <td>-0.001374</td>\n",
       "      <td>0.009116</td>\n",
       "      <td>476.889356</td>\n",
       "      <td>0.000000</td>\n",
       "      <td>0.000000e+00</td>\n",
       "    </tr>\n",
       "    <tr>\n",
       "      <th>2021-04-17 01:00:19.928668</th>\n",
       "      <td>1.090106e+11</td>\n",
       "      <td>0.007742</td>\n",
       "      <td>61599.07</td>\n",
       "      <td>-0.001374</td>\n",
       "      <td>0.009116</td>\n",
       "      <td>476.916838</td>\n",
       "      <td>0.000000</td>\n",
       "      <td>0.000000e+00</td>\n",
       "    </tr>\n",
       "    <tr>\n",
       "      <th>2021-04-17 01:00:19.928668</th>\n",
       "      <td>1.090106e+11</td>\n",
       "      <td>0.007742</td>\n",
       "      <td>61603.21</td>\n",
       "      <td>-0.001374</td>\n",
       "      <td>0.009116</td>\n",
       "      <td>476.948891</td>\n",
       "      <td>0.000000</td>\n",
       "      <td>0.000000e+00</td>\n",
       "    </tr>\n",
       "    <tr>\n",
       "      <th>2021-04-17 01:00:19.933113</th>\n",
       "      <td>1.090108e+11</td>\n",
       "      <td>0.007742</td>\n",
       "      <td>61603.22</td>\n",
       "      <td>-0.001374</td>\n",
       "      <td>0.009116</td>\n",
       "      <td>476.938969</td>\n",
       "      <td>0.000000</td>\n",
       "      <td>0.000000e+00</td>\n",
       "    </tr>\n",
       "    <tr>\n",
       "      <th>2021-04-17 01:00:20.369901</th>\n",
       "      <td>1.090110e+11</td>\n",
       "      <td>0.007714</td>\n",
       "      <td>61604.97</td>\n",
       "      <td>-0.001374</td>\n",
       "      <td>0.009088</td>\n",
       "      <td>475.202493</td>\n",
       "      <td>0.000000</td>\n",
       "      <td>0.000000e+00</td>\n",
       "    </tr>\n",
       "    <tr>\n",
       "      <th>...</th>\n",
       "      <td>...</td>\n",
       "      <td>...</td>\n",
       "      <td>...</td>\n",
       "      <td>...</td>\n",
       "      <td>...</td>\n",
       "      <td>...</td>\n",
       "      <td>...</td>\n",
       "      <td>...</td>\n",
       "    </tr>\n",
       "    <tr>\n",
       "      <th>2021-04-27 00:22:15.081535</th>\n",
       "      <td>2.701576e+12</td>\n",
       "      <td>-0.035414</td>\n",
       "      <td>53745.89</td>\n",
       "      <td>-0.034052</td>\n",
       "      <td>-0.001362</td>\n",
       "      <td>-1903.348081</td>\n",
       "      <td>1903.348081</td>\n",
       "      <td>5.375402e+08</td>\n",
       "    </tr>\n",
       "    <tr>\n",
       "      <th>2021-04-27 00:22:16.402878</th>\n",
       "      <td>2.701455e+12</td>\n",
       "      <td>-0.035256</td>\n",
       "      <td>53734.71</td>\n",
       "      <td>-0.034050</td>\n",
       "      <td>-0.001206</td>\n",
       "      <td>-1894.483249</td>\n",
       "      <td>1894.483249</td>\n",
       "      <td>5.375421e+08</td>\n",
       "    </tr>\n",
       "    <tr>\n",
       "      <th>2021-04-27 00:22:16.428058</th>\n",
       "      <td>2.701457e+12</td>\n",
       "      <td>-0.035256</td>\n",
       "      <td>53737.42</td>\n",
       "      <td>-0.034050</td>\n",
       "      <td>-0.001206</td>\n",
       "      <td>-1894.578793</td>\n",
       "      <td>1894.578793</td>\n",
       "      <td>5.375440e+08</td>\n",
       "    </tr>\n",
       "    <tr>\n",
       "      <th>2021-04-27 00:22:16.667433</th>\n",
       "      <td>2.701460e+12</td>\n",
       "      <td>-0.035205</td>\n",
       "      <td>53734.66</td>\n",
       "      <td>-0.034050</td>\n",
       "      <td>-0.001155</td>\n",
       "      <td>-1891.721557</td>\n",
       "      <td>1891.721557</td>\n",
       "      <td>5.375459e+08</td>\n",
       "    </tr>\n",
       "    <tr>\n",
       "      <th>2021-04-27 00:22:17.851269</th>\n",
       "      <td>2.701465e+12</td>\n",
       "      <td>-0.035138</td>\n",
       "      <td>53731.07</td>\n",
       "      <td>-0.034050</td>\n",
       "      <td>-0.001088</td>\n",
       "      <td>-1888.005291</td>\n",
       "      <td>1888.005291</td>\n",
       "      <td>5.375478e+08</td>\n",
       "    </tr>\n",
       "  </tbody>\n",
       "</table>\n",
       "<p>854255 rows × 8 columns</p>\n",
       "</div>"
      ],
      "text/plain": [
       "                                    flow    return     price     r_hat  \\\n",
       "timestamp_ns                                                             \n",
       "2021-04-17 01:00:19.685756  1.090447e+11  0.007741  61603.27 -0.001374   \n",
       "2021-04-17 01:00:19.928668  1.090106e+11  0.007742  61599.07 -0.001374   \n",
       "2021-04-17 01:00:19.928668  1.090106e+11  0.007742  61603.21 -0.001374   \n",
       "2021-04-17 01:00:19.933113  1.090108e+11  0.007742  61603.22 -0.001374   \n",
       "2021-04-17 01:00:20.369901  1.090110e+11  0.007714  61604.97 -0.001374   \n",
       "...                                  ...       ...       ...       ...   \n",
       "2021-04-27 00:22:15.081535  2.701576e+12 -0.035414  53745.89 -0.034052   \n",
       "2021-04-27 00:22:16.402878  2.701455e+12 -0.035256  53734.71 -0.034050   \n",
       "2021-04-27 00:22:16.428058  2.701457e+12 -0.035256  53737.42 -0.034050   \n",
       "2021-04-27 00:22:16.667433  2.701460e+12 -0.035205  53734.66 -0.034050   \n",
       "2021-04-27 00:22:17.851269  2.701465e+12 -0.035138  53731.07 -0.034050   \n",
       "\n",
       "                            residuals  exp_d_return          PnL       cum_PnL  \n",
       "timestamp_ns                                                                    \n",
       "2021-04-17 01:00:19.685756   0.009116    476.889356     0.000000  0.000000e+00  \n",
       "2021-04-17 01:00:19.928668   0.009116    476.916838     0.000000  0.000000e+00  \n",
       "2021-04-17 01:00:19.928668   0.009116    476.948891     0.000000  0.000000e+00  \n",
       "2021-04-17 01:00:19.933113   0.009116    476.938969     0.000000  0.000000e+00  \n",
       "2021-04-17 01:00:20.369901   0.009088    475.202493     0.000000  0.000000e+00  \n",
       "...                               ...           ...          ...           ...  \n",
       "2021-04-27 00:22:15.081535  -0.001362  -1903.348081  1903.348081  5.375402e+08  \n",
       "2021-04-27 00:22:16.402878  -0.001206  -1894.483249  1894.483249  5.375421e+08  \n",
       "2021-04-27 00:22:16.428058  -0.001206  -1894.578793  1894.578793  5.375440e+08  \n",
       "2021-04-27 00:22:16.667433  -0.001155  -1891.721557  1891.721557  5.375459e+08  \n",
       "2021-04-27 00:22:17.851269  -0.001088  -1888.005291  1888.005291  5.375478e+08  \n",
       "\n",
       "[854255 rows x 8 columns]"
      ]
     },
     "execution_count": 61,
     "metadata": {},
     "output_type": "execute_result"
    }
   ],
   "source": [
    "t"
   ]
  },
  {
   "cell_type": "code",
   "execution_count": 62,
   "id": "4dfc2a0e",
   "metadata": {},
   "outputs": [
    {
     "data": {
      "text/plain": [
       "<matplotlib.legend.Legend at 0x7fc663da3b50>"
      ]
     },
     "execution_count": 62,
     "metadata": {},
     "output_type": "execute_result"
    },
    {
     "data": {
      "image/png": "[encoded data removed]",
      "text/plain": [
       "<Figure size 576x432 with 1 Axes>"
      ]
     },
     "metadata": {
      "needs_background": "light"
     },
     "output_type": "display_data"
    }
   ],
   "source": [
    "plt.figure(figsize=(8,6))\n",
    "cum_pnl = t['PnL'].plot()\n",
    "cum_pnl.set_title('PnL on BTC-USD (test data)')\n",
    "cum_pnl.set_ylabel('PnL')\n",
    "plt.legend(loc=\"upper right\", borderaxespad=0)"
   ]
  },
  {
   "cell_type": "markdown",
   "id": "b07e9853",
   "metadata": {},
   "source": [
    "We are making the largest amount of money when the market is volatile. From the graph, there quite a few high gains and only some small losses"
   ]
  },
  {
   "cell_type": "code",
   "execution_count": 63,
   "id": "55d4587b",
   "metadata": {},
   "outputs": [
    {
     "data": {
      "text/plain": [
       "<matplotlib.legend.Legend at 0x7fc67539ed30>"
      ]
     },
     "execution_count": 63,
     "metadata": {},
     "output_type": "execute_result"
    },
    {
     "data": {
      "image/png": "[encoded data removed]",
      "text/plain": [
       "<Figure size 576x432 with 1 Axes>"
      ]
     },
     "metadata": {
      "needs_background": "light"
     },
     "output_type": "display_data"
    }
   ],
   "source": [
    "plt.figure(figsize=(8,6))\n",
    "cum_pnl = t['cum_PnL'].plot()\n",
    "cum_pnl.set_title('Cumulative PnL on BTC-USD (test data)')\n",
    "cum_pnl.set_ylabel('cumulative PnL')\n",
    "plt.legend(loc=\"upper right\", borderaxespad=0)"
   ]
  },
  {
   "cell_type": "markdown",
   "id": "8cd89070",
   "metadata": {},
   "source": [
    "The cumulative PnL is increasing most significantly when we are trading most frequently (corresponding slope steeper)"
   ]
  },
  {
   "cell_type": "markdown",
   "id": "82f275fd",
   "metadata": {},
   "source": [
    "### Important Meansures and Ratios"
   ]
  },
  {
   "cell_type": "code",
   "execution_count": 64,
   "id": "c82312b4",
   "metadata": {},
   "outputs": [],
   "source": [
    "report_test = PnL_report(t[['PnL']])"
   ]
  },
  {
   "cell_type": "code",
   "execution_count": 65,
   "id": "b45c0b8f",
   "metadata": {},
   "outputs": [
    {
     "data": {
      "text/html": [
       "<div>\n",
       "<style scoped>\n",
       "    .dataframe tbody tr th:only-of-type {\n",
       "        vertical-align: middle;\n",
       "    }\n",
       "\n",
       "    .dataframe tbody tr th {\n",
       "        vertical-align: top;\n",
       "    }\n",
       "\n",
       "    .dataframe thead th {\n",
       "        text-align: right;\n",
       "    }\n",
       "</style>\n",
       "<table border=\"1\" class=\"dataframe\">\n",
       "  <thead>\n",
       "    <tr style=\"text-align: right;\">\n",
       "      <th></th>\n",
       "      <th>PnL</th>\n",
       "    </tr>\n",
       "  </thead>\n",
       "  <tbody>\n",
       "    <tr>\n",
       "      <th>Mean</th>\n",
       "      <td>629.2592</td>\n",
       "    </tr>\n",
       "    <tr>\n",
       "      <th>Vol</th>\n",
       "      <td>1070.8126</td>\n",
       "    </tr>\n",
       "    <tr>\n",
       "      <th>Sharpe</th>\n",
       "      <td>0.5876</td>\n",
       "    </tr>\n",
       "    <tr>\n",
       "      <th>Skewness</th>\n",
       "      <td>2.1081</td>\n",
       "    </tr>\n",
       "    <tr>\n",
       "      <th>Excess Kurtosis</th>\n",
       "      <td>7.3302</td>\n",
       "    </tr>\n",
       "    <tr>\n",
       "      <th>VaR</th>\n",
       "      <td>0.0000</td>\n",
       "    </tr>\n",
       "    <tr>\n",
       "      <th>Expected Shortfall</th>\n",
       "      <td>-464.4495</td>\n",
       "    </tr>\n",
       "    <tr>\n",
       "      <th>Max Drawdown</th>\n",
       "      <td>-10683.4291</td>\n",
       "    </tr>\n",
       "  </tbody>\n",
       "</table>\n",
       "</div>"
      ],
      "text/plain": [
       "                           PnL\n",
       "Mean                  629.2592\n",
       "Vol                  1070.8126\n",
       "Sharpe                  0.5876\n",
       "Skewness                2.1081\n",
       "Excess Kurtosis         7.3302\n",
       "VaR                     0.0000\n",
       "Expected Shortfall   -464.4495\n",
       "Max Drawdown       -10683.4291"
      ]
     },
     "execution_count": 65,
     "metadata": {},
     "output_type": "execute_result"
    }
   ],
   "source": [
    "report_test"
   ]
  },
  {
   "cell_type": "markdown",
   "id": "3525b5a4",
   "metadata": {},
   "source": [
    "The strategy has a Sharpe ratio of 0.5876. Although our main PnL is large, our volatility is about 2 times larger than the mean, which indicates that the training set may not be that useful in predicting future returns. Kurtosis is about 7.33, and thus the PnL has much fatter tails than a normal distribution. Max drawdown is about 10,000, which is not as large compared to our profits"
   ]
  },
  {
   "cell_type": "markdown",
   "id": "ed8147de",
   "metadata": {},
   "source": [
    "### Different Training and Test Periods"
   ]
  },
  {
   "cell_type": "code",
   "execution_count": 66,
   "id": "6e6349e5",
   "metadata": {},
   "outputs": [
    {
     "name": "stdout",
     "output_type": "stream",
     "text": [
      "10% of training data and 90% of test data\n"
     ]
    },
    {
     "data": {
      "text/html": [
       "<div>\n",
       "<style scoped>\n",
       "    .dataframe tbody tr th:only-of-type {\n",
       "        vertical-align: middle;\n",
       "    }\n",
       "\n",
       "    .dataframe tbody tr th {\n",
       "        vertical-align: top;\n",
       "    }\n",
       "\n",
       "    .dataframe thead th {\n",
       "        text-align: right;\n",
       "    }\n",
       "</style>\n",
       "<table border=\"1\" class=\"dataframe\">\n",
       "  <thead>\n",
       "    <tr style=\"text-align: right;\">\n",
       "      <th></th>\n",
       "      <th>Mean</th>\n",
       "      <th>Vol</th>\n",
       "      <th>Sharpe</th>\n",
       "      <th>Skewness</th>\n",
       "      <th>Excess Kurtosis</th>\n",
       "      <th>VaR</th>\n",
       "      <th>Expected Shortfall</th>\n",
       "      <th>Max Drawdown</th>\n",
       "    </tr>\n",
       "  </thead>\n",
       "  <tbody>\n",
       "    <tr>\n",
       "      <th>PnL</th>\n",
       "      <td>514.0199</td>\n",
       "      <td>970.1153</td>\n",
       "      <td>0.5299</td>\n",
       "      <td>2.4779</td>\n",
       "      <td>10.4772</td>\n",
       "      <td>0.0</td>\n",
       "      <td>-416.9835</td>\n",
       "      <td>-10683.4291</td>\n",
       "    </tr>\n",
       "  </tbody>\n",
       "</table>\n",
       "</div>"
      ],
      "text/plain": [
       "         Mean       Vol  Sharpe  Skewness  Excess Kurtosis  VaR  \\\n",
       "PnL  514.0199  970.1153  0.5299    2.4779          10.4772  0.0   \n",
       "\n",
       "     Expected Shortfall  Max Drawdown  \n",
       "PnL           -416.9835   -10683.4291  "
      ]
     },
     "metadata": {},
     "output_type": "display_data"
    },
    {
     "name": "stdout",
     "output_type": "stream",
     "text": [
      "20% of training data and 80% of test data\n"
     ]
    },
    {
     "data": {
      "text/html": [
       "<div>\n",
       "<style scoped>\n",
       "    .dataframe tbody tr th:only-of-type {\n",
       "        vertical-align: middle;\n",
       "    }\n",
       "\n",
       "    .dataframe tbody tr th {\n",
       "        vertical-align: top;\n",
       "    }\n",
       "\n",
       "    .dataframe thead th {\n",
       "        text-align: right;\n",
       "    }\n",
       "</style>\n",
       "<table border=\"1\" class=\"dataframe\">\n",
       "  <thead>\n",
       "    <tr style=\"text-align: right;\">\n",
       "      <th></th>\n",
       "      <th>Mean</th>\n",
       "      <th>Vol</th>\n",
       "      <th>Sharpe</th>\n",
       "      <th>Skewness</th>\n",
       "      <th>Excess Kurtosis</th>\n",
       "      <th>VaR</th>\n",
       "      <th>Expected Shortfall</th>\n",
       "      <th>Max Drawdown</th>\n",
       "    </tr>\n",
       "  </thead>\n",
       "  <tbody>\n",
       "    <tr>\n",
       "      <th>PnL</th>\n",
       "      <td>629.2592</td>\n",
       "      <td>1070.8126</td>\n",
       "      <td>0.5876</td>\n",
       "      <td>2.1081</td>\n",
       "      <td>7.3302</td>\n",
       "      <td>0.0</td>\n",
       "      <td>-464.4495</td>\n",
       "      <td>-10683.4291</td>\n",
       "    </tr>\n",
       "  </tbody>\n",
       "</table>\n",
       "</div>"
      ],
      "text/plain": [
       "         Mean        Vol  Sharpe  Skewness  Excess Kurtosis  VaR  \\\n",
       "PnL  629.2592  1070.8126  0.5876    2.1081           7.3302  0.0   \n",
       "\n",
       "     Expected Shortfall  Max Drawdown  \n",
       "PnL           -464.4495   -10683.4291  "
      ]
     },
     "metadata": {},
     "output_type": "display_data"
    },
    {
     "name": "stdout",
     "output_type": "stream",
     "text": [
      "30% of training data and 70% of test data\n"
     ]
    },
    {
     "data": {
      "text/html": [
       "<div>\n",
       "<style scoped>\n",
       "    .dataframe tbody tr th:only-of-type {\n",
       "        vertical-align: middle;\n",
       "    }\n",
       "\n",
       "    .dataframe tbody tr th {\n",
       "        vertical-align: top;\n",
       "    }\n",
       "\n",
       "    .dataframe thead th {\n",
       "        text-align: right;\n",
       "    }\n",
       "</style>\n",
       "<table border=\"1\" class=\"dataframe\">\n",
       "  <thead>\n",
       "    <tr style=\"text-align: right;\">\n",
       "      <th></th>\n",
       "      <th>Mean</th>\n",
       "      <th>Vol</th>\n",
       "      <th>Sharpe</th>\n",
       "      <th>Skewness</th>\n",
       "      <th>Excess Kurtosis</th>\n",
       "      <th>VaR</th>\n",
       "      <th>Expected Shortfall</th>\n",
       "      <th>Max Drawdown</th>\n",
       "    </tr>\n",
       "  </thead>\n",
       "  <tbody>\n",
       "    <tr>\n",
       "      <th>PnL</th>\n",
       "      <td>874.6744</td>\n",
       "      <td>1145.2199</td>\n",
       "      <td>0.7638</td>\n",
       "      <td>1.2598</td>\n",
       "      <td>3.5018</td>\n",
       "      <td>-183.844</td>\n",
       "      <td>-733.8831</td>\n",
       "      <td>-10858.1868</td>\n",
       "    </tr>\n",
       "  </tbody>\n",
       "</table>\n",
       "</div>"
      ],
      "text/plain": [
       "         Mean        Vol  Sharpe  Skewness  Excess Kurtosis      VaR  \\\n",
       "PnL  874.6744  1145.2199  0.7638    1.2598           3.5018 -183.844   \n",
       "\n",
       "     Expected Shortfall  Max Drawdown  \n",
       "PnL           -733.8831   -10858.1868  "
      ]
     },
     "metadata": {},
     "output_type": "display_data"
    },
    {
     "name": "stdout",
     "output_type": "stream",
     "text": [
      "40% of training data and 60% of test data\n"
     ]
    },
    {
     "data": {
      "text/html": [
       "<div>\n",
       "<style scoped>\n",
       "    .dataframe tbody tr th:only-of-type {\n",
       "        vertical-align: middle;\n",
       "    }\n",
       "\n",
       "    .dataframe tbody tr th {\n",
       "        vertical-align: top;\n",
       "    }\n",
       "\n",
       "    .dataframe thead th {\n",
       "        text-align: right;\n",
       "    }\n",
       "</style>\n",
       "<table border=\"1\" class=\"dataframe\">\n",
       "  <thead>\n",
       "    <tr style=\"text-align: right;\">\n",
       "      <th></th>\n",
       "      <th>Mean</th>\n",
       "      <th>Vol</th>\n",
       "      <th>Sharpe</th>\n",
       "      <th>Skewness</th>\n",
       "      <th>Excess Kurtosis</th>\n",
       "      <th>VaR</th>\n",
       "      <th>Expected Shortfall</th>\n",
       "      <th>Max Drawdown</th>\n",
       "    </tr>\n",
       "  </thead>\n",
       "  <tbody>\n",
       "    <tr>\n",
       "      <th>PnL</th>\n",
       "      <td>908.9314</td>\n",
       "      <td>1083.2603</td>\n",
       "      <td>0.8391</td>\n",
       "      <td>0.6338</td>\n",
       "      <td>-0.3701</td>\n",
       "      <td>-4.3002</td>\n",
       "      <td>-610.0917</td>\n",
       "      <td>-5992.4836</td>\n",
       "    </tr>\n",
       "  </tbody>\n",
       "</table>\n",
       "</div>"
      ],
      "text/plain": [
       "         Mean        Vol  Sharpe  Skewness  Excess Kurtosis     VaR  \\\n",
       "PnL  908.9314  1083.2603  0.8391    0.6338          -0.3701 -4.3002   \n",
       "\n",
       "     Expected Shortfall  Max Drawdown  \n",
       "PnL           -610.0917    -5992.4836  "
      ]
     },
     "metadata": {},
     "output_type": "display_data"
    },
    {
     "name": "stdout",
     "output_type": "stream",
     "text": [
      "50% of training data and 50% of test data\n"
     ]
    },
    {
     "data": {
      "text/html": [
       "<div>\n",
       "<style scoped>\n",
       "    .dataframe tbody tr th:only-of-type {\n",
       "        vertical-align: middle;\n",
       "    }\n",
       "\n",
       "    .dataframe tbody tr th {\n",
       "        vertical-align: top;\n",
       "    }\n",
       "\n",
       "    .dataframe thead th {\n",
       "        text-align: right;\n",
       "    }\n",
       "</style>\n",
       "<table border=\"1\" class=\"dataframe\">\n",
       "  <thead>\n",
       "    <tr style=\"text-align: right;\">\n",
       "      <th></th>\n",
       "      <th>Mean</th>\n",
       "      <th>Vol</th>\n",
       "      <th>Sharpe</th>\n",
       "      <th>Skewness</th>\n",
       "      <th>Excess Kurtosis</th>\n",
       "      <th>VaR</th>\n",
       "      <th>Expected Shortfall</th>\n",
       "      <th>Max Drawdown</th>\n",
       "    </tr>\n",
       "  </thead>\n",
       "  <tbody>\n",
       "    <tr>\n",
       "      <th>PnL</th>\n",
       "      <td>1032.5163</td>\n",
       "      <td>1101.4391</td>\n",
       "      <td>0.9374</td>\n",
       "      <td>0.4364</td>\n",
       "      <td>-0.5739</td>\n",
       "      <td>-40.9265</td>\n",
       "      <td>-607.1635</td>\n",
       "      <td>-5992.4836</td>\n",
       "    </tr>\n",
       "  </tbody>\n",
       "</table>\n",
       "</div>"
      ],
      "text/plain": [
       "          Mean        Vol  Sharpe  Skewness  Excess Kurtosis      VaR  \\\n",
       "PnL  1032.5163  1101.4391  0.9374    0.4364          -0.5739 -40.9265   \n",
       "\n",
       "     Expected Shortfall  Max Drawdown  \n",
       "PnL           -607.1635    -5992.4836  "
      ]
     },
     "metadata": {},
     "output_type": "display_data"
    },
    {
     "name": "stdout",
     "output_type": "stream",
     "text": [
      "60% of training data and 40% of test data\n"
     ]
    },
    {
     "data": {
      "text/html": [
       "<div>\n",
       "<style scoped>\n",
       "    .dataframe tbody tr th:only-of-type {\n",
       "        vertical-align: middle;\n",
       "    }\n",
       "\n",
       "    .dataframe tbody tr th {\n",
       "        vertical-align: top;\n",
       "    }\n",
       "\n",
       "    .dataframe thead th {\n",
       "        text-align: right;\n",
       "    }\n",
       "</style>\n",
       "<table border=\"1\" class=\"dataframe\">\n",
       "  <thead>\n",
       "    <tr style=\"text-align: right;\">\n",
       "      <th></th>\n",
       "      <th>Mean</th>\n",
       "      <th>Vol</th>\n",
       "      <th>Sharpe</th>\n",
       "      <th>Skewness</th>\n",
       "      <th>Excess Kurtosis</th>\n",
       "      <th>VaR</th>\n",
       "      <th>Expected Shortfall</th>\n",
       "      <th>Max Drawdown</th>\n",
       "    </tr>\n",
       "  </thead>\n",
       "  <tbody>\n",
       "    <tr>\n",
       "      <th>PnL</th>\n",
       "      <td>1065.969</td>\n",
       "      <td>1124.568</td>\n",
       "      <td>0.9479</td>\n",
       "      <td>0.3955</td>\n",
       "      <td>-0.5425</td>\n",
       "      <td>0.0</td>\n",
       "      <td>-755.4701</td>\n",
       "      <td>-5992.4836</td>\n",
       "    </tr>\n",
       "  </tbody>\n",
       "</table>\n",
       "</div>"
      ],
      "text/plain": [
       "         Mean       Vol  Sharpe  Skewness  Excess Kurtosis  VaR  \\\n",
       "PnL  1065.969  1124.568  0.9479    0.3955          -0.5425  0.0   \n",
       "\n",
       "     Expected Shortfall  Max Drawdown  \n",
       "PnL           -755.4701    -5992.4836  "
      ]
     },
     "metadata": {},
     "output_type": "display_data"
    },
    {
     "name": "stdout",
     "output_type": "stream",
     "text": [
      "70% of training data and 30% of test data\n"
     ]
    },
    {
     "data": {
      "text/html": [
       "<div>\n",
       "<style scoped>\n",
       "    .dataframe tbody tr th:only-of-type {\n",
       "        vertical-align: middle;\n",
       "    }\n",
       "\n",
       "    .dataframe tbody tr th {\n",
       "        vertical-align: top;\n",
       "    }\n",
       "\n",
       "    .dataframe thead th {\n",
       "        text-align: right;\n",
       "    }\n",
       "</style>\n",
       "<table border=\"1\" class=\"dataframe\">\n",
       "  <thead>\n",
       "    <tr style=\"text-align: right;\">\n",
       "      <th></th>\n",
       "      <th>Mean</th>\n",
       "      <th>Vol</th>\n",
       "      <th>Sharpe</th>\n",
       "      <th>Skewness</th>\n",
       "      <th>Excess Kurtosis</th>\n",
       "      <th>VaR</th>\n",
       "      <th>Expected Shortfall</th>\n",
       "      <th>Max Drawdown</th>\n",
       "    </tr>\n",
       "  </thead>\n",
       "  <tbody>\n",
       "    <tr>\n",
       "      <th>PnL</th>\n",
       "      <td>1317.7461</td>\n",
       "      <td>1045.4868</td>\n",
       "      <td>1.2604</td>\n",
       "      <td>0.1496</td>\n",
       "      <td>-0.4549</td>\n",
       "      <td>0.0</td>\n",
       "      <td>-859.8053</td>\n",
       "      <td>-4501.4846</td>\n",
       "    </tr>\n",
       "  </tbody>\n",
       "</table>\n",
       "</div>"
      ],
      "text/plain": [
       "          Mean        Vol  Sharpe  Skewness  Excess Kurtosis  VaR  \\\n",
       "PnL  1317.7461  1045.4868  1.2604    0.1496          -0.4549  0.0   \n",
       "\n",
       "     Expected Shortfall  Max Drawdown  \n",
       "PnL           -859.8053    -4501.4846  "
      ]
     },
     "metadata": {},
     "output_type": "display_data"
    },
    {
     "name": "stdout",
     "output_type": "stream",
     "text": [
      "80% of training data and 20% of test data\n"
     ]
    },
    {
     "data": {
      "text/html": [
       "<div>\n",
       "<style scoped>\n",
       "    .dataframe tbody tr th:only-of-type {\n",
       "        vertical-align: middle;\n",
       "    }\n",
       "\n",
       "    .dataframe tbody tr th {\n",
       "        vertical-align: top;\n",
       "    }\n",
       "\n",
       "    .dataframe thead th {\n",
       "        text-align: right;\n",
       "    }\n",
       "</style>\n",
       "<table border=\"1\" class=\"dataframe\">\n",
       "  <thead>\n",
       "    <tr style=\"text-align: right;\">\n",
       "      <th></th>\n",
       "      <th>Mean</th>\n",
       "      <th>Vol</th>\n",
       "      <th>Sharpe</th>\n",
       "      <th>Skewness</th>\n",
       "      <th>Excess Kurtosis</th>\n",
       "      <th>VaR</th>\n",
       "      <th>Expected Shortfall</th>\n",
       "      <th>Max Drawdown</th>\n",
       "    </tr>\n",
       "  </thead>\n",
       "  <tbody>\n",
       "    <tr>\n",
       "      <th>PnL</th>\n",
       "      <td>1204.1658</td>\n",
       "      <td>1059.775</td>\n",
       "      <td>1.1362</td>\n",
       "      <td>0.6224</td>\n",
       "      <td>0.0105</td>\n",
       "      <td>0.0</td>\n",
       "      <td>-6.3851</td>\n",
       "      <td>-4501.4846</td>\n",
       "    </tr>\n",
       "  </tbody>\n",
       "</table>\n",
       "</div>"
      ],
      "text/plain": [
       "          Mean       Vol  Sharpe  Skewness  Excess Kurtosis  VaR  \\\n",
       "PnL  1204.1658  1059.775  1.1362    0.6224           0.0105  0.0   \n",
       "\n",
       "     Expected Shortfall  Max Drawdown  \n",
       "PnL             -6.3851    -4501.4846  "
      ]
     },
     "metadata": {},
     "output_type": "display_data"
    },
    {
     "name": "stdout",
     "output_type": "stream",
     "text": [
      "90% of training data and 10% of test data\n"
     ]
    },
    {
     "data": {
      "text/html": [
       "<div>\n",
       "<style scoped>\n",
       "    .dataframe tbody tr th:only-of-type {\n",
       "        vertical-align: middle;\n",
       "    }\n",
       "\n",
       "    .dataframe tbody tr th {\n",
       "        vertical-align: top;\n",
       "    }\n",
       "\n",
       "    .dataframe thead th {\n",
       "        text-align: right;\n",
       "    }\n",
       "</style>\n",
       "<table border=\"1\" class=\"dataframe\">\n",
       "  <thead>\n",
       "    <tr style=\"text-align: right;\">\n",
       "      <th></th>\n",
       "      <th>Mean</th>\n",
       "      <th>Vol</th>\n",
       "      <th>Sharpe</th>\n",
       "      <th>Skewness</th>\n",
       "      <th>Excess Kurtosis</th>\n",
       "      <th>VaR</th>\n",
       "      <th>Expected Shortfall</th>\n",
       "      <th>Max Drawdown</th>\n",
       "    </tr>\n",
       "  </thead>\n",
       "  <tbody>\n",
       "    <tr>\n",
       "      <th>PnL</th>\n",
       "      <td>1651.7012</td>\n",
       "      <td>958.124</td>\n",
       "      <td>1.7239</td>\n",
       "      <td>0.7192</td>\n",
       "      <td>0.7183</td>\n",
       "      <td>224.1575</td>\n",
       "      <td>70.3446</td>\n",
       "      <td>-4501.4846</td>\n",
       "    </tr>\n",
       "  </tbody>\n",
       "</table>\n",
       "</div>"
      ],
      "text/plain": [
       "          Mean      Vol  Sharpe  Skewness  Excess Kurtosis       VaR  \\\n",
       "PnL  1651.7012  958.124  1.7239    0.7192           0.7183  224.1575   \n",
       "\n",
       "     Expected Shortfall  Max Drawdown  \n",
       "PnL             70.3446    -4501.4846  "
      ]
     },
     "metadata": {},
     "output_type": "display_data"
    }
   ],
   "source": [
    "cum_PnL_df_2 = pd.DataFrame(columns=['cum_PnL'])\n",
    "\n",
    "for i in range(10,100,10):\n",
    "    l = len(cum_PnL_df_2.index)\n",
    "#             cum_PnL_df.loc[l,'tau'] = tau_i\n",
    "#             cum_PnL_df.loc[l,'T'] = T_i\n",
    "#             cum_PnL_df.loc[l,'j'] = j_i\n",
    "    cum_PnL_2, rpt_2 = calc_PnL(trades_btc_usd,1,2,0.01,i/100)\n",
    "    cum_PnL_df_2.loc[l,'cum_PnL'] = cum_PnL_2\n",
    "    cum_PnL_df_2.loc[l,'Sharpe Ratio'] = rpt_2.loc['Sharpe','PnL']\n",
    "    print(str(i)+'% of training data and '+str(100-i)+'% of test data')\n",
    "    display(rpt_2.T)"
   ]
  },
  {
   "cell_type": "code",
   "execution_count": 67,
   "id": "9f0c0e2d",
   "metadata": {},
   "outputs": [
    {
     "data": {
      "text/html": [
       "<div>\n",
       "<style scoped>\n",
       "    .dataframe tbody tr th:only-of-type {\n",
       "        vertical-align: middle;\n",
       "    }\n",
       "\n",
       "    .dataframe tbody tr th {\n",
       "        vertical-align: top;\n",
       "    }\n",
       "\n",
       "    .dataframe thead th {\n",
       "        text-align: right;\n",
       "    }\n",
       "</style>\n",
       "<table border=\"1\" class=\"dataframe\">\n",
       "  <thead>\n",
       "    <tr style=\"text-align: right;\">\n",
       "      <th></th>\n",
       "      <th>cum_PnL</th>\n",
       "      <th>Sharpe Ratio</th>\n",
       "    </tr>\n",
       "  </thead>\n",
       "  <tbody>\n",
       "    <tr>\n",
       "      <th>8</th>\n",
       "      <td>176371952.738088</td>\n",
       "      <td>1.7239</td>\n",
       "    </tr>\n",
       "    <tr>\n",
       "      <th>6</th>\n",
       "      <td>422134706.993434</td>\n",
       "      <td>1.2604</td>\n",
       "    </tr>\n",
       "    <tr>\n",
       "      <th>7</th>\n",
       "      <td>257166462.988035</td>\n",
       "      <td>1.1362</td>\n",
       "    </tr>\n",
       "    <tr>\n",
       "      <th>5</th>\n",
       "      <td>455305207.435952</td>\n",
       "      <td>0.9479</td>\n",
       "    </tr>\n",
       "    <tr>\n",
       "      <th>4</th>\n",
       "      <td>551269756.302299</td>\n",
       "      <td>0.9374</td>\n",
       "    </tr>\n",
       "    <tr>\n",
       "      <th>3</th>\n",
       "      <td>582344169.898883</td>\n",
       "      <td>0.8391</td>\n",
       "    </tr>\n",
       "    <tr>\n",
       "      <th>2</th>\n",
       "      <td>653795533.23922</td>\n",
       "      <td>0.7638</td>\n",
       "    </tr>\n",
       "    <tr>\n",
       "      <th>1</th>\n",
       "      <td>537547809.330974</td>\n",
       "      <td>0.5876</td>\n",
       "    </tr>\n",
       "    <tr>\n",
       "      <th>0</th>\n",
       "      <td>493992131.975521</td>\n",
       "      <td>0.5299</td>\n",
       "    </tr>\n",
       "  </tbody>\n",
       "</table>\n",
       "</div>"
      ],
      "text/plain": [
       "            cum_PnL  Sharpe Ratio\n",
       "8  176371952.738088        1.7239\n",
       "6  422134706.993434        1.2604\n",
       "7  257166462.988035        1.1362\n",
       "5  455305207.435952        0.9479\n",
       "4  551269756.302299        0.9374\n",
       "3  582344169.898883        0.8391\n",
       "2   653795533.23922        0.7638\n",
       "1  537547809.330974        0.5876\n",
       "0  493992131.975521        0.5299"
      ]
     },
     "execution_count": 67,
     "metadata": {},
     "output_type": "execute_result"
    }
   ],
   "source": [
    "cum_PnL_df_2.sort_values(by='Sharpe Ratio',ascending=False)"
   ]
  },
  {
   "cell_type": "markdown",
   "id": "7eb52e89",
   "metadata": {},
   "source": [
    "With more training data, max drawdown decreases; the Sharpe Ratio is higher, but it might indicate the problem of over-fitting"
   ]
  },
  {
   "cell_type": "code",
   "execution_count": 68,
   "id": "152e1fb4",
   "metadata": {},
   "outputs": [
    {
     "data": {
      "text/plain": [
       "<matplotlib.collections.PathCollection at 0x7fc5e433aaf0>"
      ]
     },
     "execution_count": 68,
     "metadata": {},
     "output_type": "execute_result"
    },
    {
     "data": {
      "image/png": "[encoded data removed]",
      "text/plain": [
       "<Figure size 432x288 with 1 Axes>"
      ]
     },
     "metadata": {
      "needs_background": "light"
     },
     "output_type": "display_data"
    }
   ],
   "source": [
    "plt.scatter(cum_PnL_df_2['cum_PnL'],cum_PnL_df_2['Sharpe Ratio'])"
   ]
  },
  {
   "cell_type": "markdown",
   "id": "e7967eed",
   "metadata": {},
   "source": [
    "There is no clear relationship between Sharpe ratio and cum_PnL when the training dataset is different"
   ]
  },
  {
   "cell_type": "markdown",
   "id": "fcbe5184",
   "metadata": {},
   "source": [
    "# Try different combinations of tau, T, and j"
   ]
  },
  {
   "cell_type": "code",
   "execution_count": 69,
   "id": "eb9005fa",
   "metadata": {},
   "outputs": [],
   "source": [
    "tau_list = [0.5,1,2,5,10]\n",
    "T_list = [0.5,1,2,5,10]\n",
    "j_list = [0.005,0.01,0.02]"
   ]
  },
  {
   "cell_type": "markdown",
   "id": "08815e8c",
   "metadata": {},
   "source": [
    "## BTC-USD"
   ]
  },
  {
   "cell_type": "code",
   "execution_count": 70,
   "id": "8d31736a",
   "metadata": {},
   "outputs": [
    {
     "name": "stdout",
     "output_type": "stream",
     "text": [
      "tau=0.5,T=0.5,j=0.005\n"
     ]
    },
    {
     "data": {
      "text/html": [
       "<div>\n",
       "<style scoped>\n",
       "    .dataframe tbody tr th:only-of-type {\n",
       "        vertical-align: middle;\n",
       "    }\n",
       "\n",
       "    .dataframe tbody tr th {\n",
       "        vertical-align: top;\n",
       "    }\n",
       "\n",
       "    .dataframe thead th {\n",
       "        text-align: right;\n",
       "    }\n",
       "</style>\n",
       "<table border=\"1\" class=\"dataframe\">\n",
       "  <thead>\n",
       "    <tr style=\"text-align: right;\">\n",
       "      <th></th>\n",
       "      <th>Mean</th>\n",
       "      <th>Vol</th>\n",
       "      <th>Sharpe</th>\n",
       "      <th>Skewness</th>\n",
       "      <th>Excess Kurtosis</th>\n",
       "      <th>VaR</th>\n",
       "      <th>Expected Shortfall</th>\n",
       "      <th>Max Drawdown</th>\n",
       "    </tr>\n",
       "  </thead>\n",
       "  <tbody>\n",
       "    <tr>\n",
       "      <th>PnL</th>\n",
       "      <td>941.1197</td>\n",
       "      <td>1451.5533</td>\n",
       "      <td>0.6484</td>\n",
       "      <td>1.0342</td>\n",
       "      <td>0.8964</td>\n",
       "      <td>-1040.8418</td>\n",
       "      <td>-1431.0307</td>\n",
       "      <td>-6822.1435</td>\n",
       "    </tr>\n",
       "  </tbody>\n",
       "</table>\n",
       "</div>"
      ],
      "text/plain": [
       "         Mean        Vol  Sharpe  Skewness  Excess Kurtosis        VaR  \\\n",
       "PnL  941.1197  1451.5533  0.6484    1.0342           0.8964 -1040.8418   \n",
       "\n",
       "     Expected Shortfall  Max Drawdown  \n",
       "PnL          -1431.0307    -6822.1435  "
      ]
     },
     "metadata": {},
     "output_type": "display_data"
    },
    {
     "name": "stdout",
     "output_type": "stream",
     "text": [
      "tau=0.5,T=0.5,j=0.01\n"
     ]
    },
    {
     "data": {
      "text/html": [
       "<div>\n",
       "<style scoped>\n",
       "    .dataframe tbody tr th:only-of-type {\n",
       "        vertical-align: middle;\n",
       "    }\n",
       "\n",
       "    .dataframe tbody tr th {\n",
       "        vertical-align: top;\n",
       "    }\n",
       "\n",
       "    .dataframe thead th {\n",
       "        text-align: right;\n",
       "    }\n",
       "</style>\n",
       "<table border=\"1\" class=\"dataframe\">\n",
       "  <thead>\n",
       "    <tr style=\"text-align: right;\">\n",
       "      <th></th>\n",
       "      <th>Mean</th>\n",
       "      <th>Vol</th>\n",
       "      <th>Sharpe</th>\n",
       "      <th>Skewness</th>\n",
       "      <th>Excess Kurtosis</th>\n",
       "      <th>VaR</th>\n",
       "      <th>Expected Shortfall</th>\n",
       "      <th>Max Drawdown</th>\n",
       "    </tr>\n",
       "  </thead>\n",
       "  <tbody>\n",
       "    <tr>\n",
       "      <th>PnL</th>\n",
       "      <td>887.0476</td>\n",
       "      <td>1447.2698</td>\n",
       "      <td>0.6129</td>\n",
       "      <td>1.1556</td>\n",
       "      <td>1.0658</td>\n",
       "      <td>-993.7975</td>\n",
       "      <td>-1404.3068</td>\n",
       "      <td>-6815.612</td>\n",
       "    </tr>\n",
       "  </tbody>\n",
       "</table>\n",
       "</div>"
      ],
      "text/plain": [
       "         Mean        Vol  Sharpe  Skewness  Excess Kurtosis       VaR  \\\n",
       "PnL  887.0476  1447.2698  0.6129    1.1556           1.0658 -993.7975   \n",
       "\n",
       "     Expected Shortfall  Max Drawdown  \n",
       "PnL          -1404.3068     -6815.612  "
      ]
     },
     "metadata": {},
     "output_type": "display_data"
    },
    {
     "name": "stdout",
     "output_type": "stream",
     "text": [
      "tau=0.5,T=0.5,j=0.02\n"
     ]
    },
    {
     "data": {
      "text/html": [
       "<div>\n",
       "<style scoped>\n",
       "    .dataframe tbody tr th:only-of-type {\n",
       "        vertical-align: middle;\n",
       "    }\n",
       "\n",
       "    .dataframe tbody tr th {\n",
       "        vertical-align: top;\n",
       "    }\n",
       "\n",
       "    .dataframe thead th {\n",
       "        text-align: right;\n",
       "    }\n",
       "</style>\n",
       "<table border=\"1\" class=\"dataframe\">\n",
       "  <thead>\n",
       "    <tr style=\"text-align: right;\">\n",
       "      <th></th>\n",
       "      <th>Mean</th>\n",
       "      <th>Vol</th>\n",
       "      <th>Sharpe</th>\n",
       "      <th>Skewness</th>\n",
       "      <th>Excess Kurtosis</th>\n",
       "      <th>VaR</th>\n",
       "      <th>Expected Shortfall</th>\n",
       "      <th>Max Drawdown</th>\n",
       "    </tr>\n",
       "  </thead>\n",
       "  <tbody>\n",
       "    <tr>\n",
       "      <th>PnL</th>\n",
       "      <td>773.2291</td>\n",
       "      <td>1419.3071</td>\n",
       "      <td>0.5448</td>\n",
       "      <td>1.4335</td>\n",
       "      <td>1.7021</td>\n",
       "      <td>-706.6004</td>\n",
       "      <td>-1347.1389</td>\n",
       "      <td>-5654.6734</td>\n",
       "    </tr>\n",
       "  </tbody>\n",
       "</table>\n",
       "</div>"
      ],
      "text/plain": [
       "         Mean        Vol  Sharpe  Skewness  Excess Kurtosis       VaR  \\\n",
       "PnL  773.2291  1419.3071  0.5448    1.4335           1.7021 -706.6004   \n",
       "\n",
       "     Expected Shortfall  Max Drawdown  \n",
       "PnL          -1347.1389    -5654.6734  "
      ]
     },
     "metadata": {},
     "output_type": "display_data"
    },
    {
     "name": "stdout",
     "output_type": "stream",
     "text": [
      "tau=1,T=0.5,j=0.005\n"
     ]
    },
    {
     "data": {
      "text/html": [
       "<div>\n",
       "<style scoped>\n",
       "    .dataframe tbody tr th:only-of-type {\n",
       "        vertical-align: middle;\n",
       "    }\n",
       "\n",
       "    .dataframe tbody tr th {\n",
       "        vertical-align: top;\n",
       "    }\n",
       "\n",
       "    .dataframe thead th {\n",
       "        text-align: right;\n",
       "    }\n",
       "</style>\n",
       "<table border=\"1\" class=\"dataframe\">\n",
       "  <thead>\n",
       "    <tr style=\"text-align: right;\">\n",
       "      <th></th>\n",
       "      <th>Mean</th>\n",
       "      <th>Vol</th>\n",
       "      <th>Sharpe</th>\n",
       "      <th>Skewness</th>\n",
       "      <th>Excess Kurtosis</th>\n",
       "      <th>VaR</th>\n",
       "      <th>Expected Shortfall</th>\n",
       "      <th>Max Drawdown</th>\n",
       "    </tr>\n",
       "  </thead>\n",
       "  <tbody>\n",
       "    <tr>\n",
       "      <th>PnL</th>\n",
       "      <td>849.826</td>\n",
       "      <td>1521.2327</td>\n",
       "      <td>0.5586</td>\n",
       "      <td>0.9649</td>\n",
       "      <td>0.718</td>\n",
       "      <td>-1199.6193</td>\n",
       "      <td>-1580.8974</td>\n",
       "      <td>-7497.7831</td>\n",
       "    </tr>\n",
       "  </tbody>\n",
       "</table>\n",
       "</div>"
      ],
      "text/plain": [
       "        Mean        Vol  Sharpe  Skewness  Excess Kurtosis        VaR  \\\n",
       "PnL  849.826  1521.2327  0.5586    0.9649            0.718 -1199.6193   \n",
       "\n",
       "     Expected Shortfall  Max Drawdown  \n",
       "PnL          -1580.8974    -7497.7831  "
      ]
     },
     "metadata": {},
     "output_type": "display_data"
    },
    {
     "name": "stdout",
     "output_type": "stream",
     "text": [
      "tau=1,T=0.5,j=0.01\n"
     ]
    },
    {
     "data": {
      "text/html": [
       "<div>\n",
       "<style scoped>\n",
       "    .dataframe tbody tr th:only-of-type {\n",
       "        vertical-align: middle;\n",
       "    }\n",
       "\n",
       "    .dataframe tbody tr th {\n",
       "        vertical-align: top;\n",
       "    }\n",
       "\n",
       "    .dataframe thead th {\n",
       "        text-align: right;\n",
       "    }\n",
       "</style>\n",
       "<table border=\"1\" class=\"dataframe\">\n",
       "  <thead>\n",
       "    <tr style=\"text-align: right;\">\n",
       "      <th></th>\n",
       "      <th>Mean</th>\n",
       "      <th>Vol</th>\n",
       "      <th>Sharpe</th>\n",
       "      <th>Skewness</th>\n",
       "      <th>Excess Kurtosis</th>\n",
       "      <th>VaR</th>\n",
       "      <th>Expected Shortfall</th>\n",
       "      <th>Max Drawdown</th>\n",
       "    </tr>\n",
       "  </thead>\n",
       "  <tbody>\n",
       "    <tr>\n",
       "      <th>PnL</th>\n",
       "      <td>852.9321</td>\n",
       "      <td>1464.0289</td>\n",
       "      <td>0.5826</td>\n",
       "      <td>1.2094</td>\n",
       "      <td>1.0783</td>\n",
       "      <td>-913.0765</td>\n",
       "      <td>-1300.7438</td>\n",
       "      <td>-7497.7831</td>\n",
       "    </tr>\n",
       "  </tbody>\n",
       "</table>\n",
       "</div>"
      ],
      "text/plain": [
       "         Mean        Vol  Sharpe  Skewness  Excess Kurtosis       VaR  \\\n",
       "PnL  852.9321  1464.0289  0.5826    1.2094           1.0783 -913.0765   \n",
       "\n",
       "     Expected Shortfall  Max Drawdown  \n",
       "PnL          -1300.7438    -7497.7831  "
      ]
     },
     "metadata": {},
     "output_type": "display_data"
    },
    {
     "name": "stdout",
     "output_type": "stream",
     "text": [
      "tau=1,T=0.5,j=0.02\n"
     ]
    },
    {
     "data": {
      "text/html": [
       "<div>\n",
       "<style scoped>\n",
       "    .dataframe tbody tr th:only-of-type {\n",
       "        vertical-align: middle;\n",
       "    }\n",
       "\n",
       "    .dataframe tbody tr th {\n",
       "        vertical-align: top;\n",
       "    }\n",
       "\n",
       "    .dataframe thead th {\n",
       "        text-align: right;\n",
       "    }\n",
       "</style>\n",
       "<table border=\"1\" class=\"dataframe\">\n",
       "  <thead>\n",
       "    <tr style=\"text-align: right;\">\n",
       "      <th></th>\n",
       "      <th>Mean</th>\n",
       "      <th>Vol</th>\n",
       "      <th>Sharpe</th>\n",
       "      <th>Skewness</th>\n",
       "      <th>Excess Kurtosis</th>\n",
       "      <th>VaR</th>\n",
       "      <th>Expected Shortfall</th>\n",
       "      <th>Max Drawdown</th>\n",
       "    </tr>\n",
       "  </thead>\n",
       "  <tbody>\n",
       "    <tr>\n",
       "      <th>PnL</th>\n",
       "      <td>784.5377</td>\n",
       "      <td>1437.146</td>\n",
       "      <td>0.5459</td>\n",
       "      <td>1.4744</td>\n",
       "      <td>1.549</td>\n",
       "      <td>-516.5429</td>\n",
       "      <td>-1095.7303</td>\n",
       "      <td>-7497.7831</td>\n",
       "    </tr>\n",
       "  </tbody>\n",
       "</table>\n",
       "</div>"
      ],
      "text/plain": [
       "         Mean       Vol  Sharpe  Skewness  Excess Kurtosis       VaR  \\\n",
       "PnL  784.5377  1437.146  0.5459    1.4744            1.549 -516.5429   \n",
       "\n",
       "     Expected Shortfall  Max Drawdown  \n",
       "PnL          -1095.7303    -7497.7831  "
      ]
     },
     "metadata": {},
     "output_type": "display_data"
    },
    {
     "name": "stdout",
     "output_type": "stream",
     "text": [
      "tau=1,T=2,j=0.005\n"
     ]
    },
    {
     "data": {
      "text/html": [
       "<div>\n",
       "<style scoped>\n",
       "    .dataframe tbody tr th:only-of-type {\n",
       "        vertical-align: middle;\n",
       "    }\n",
       "\n",
       "    .dataframe tbody tr th {\n",
       "        vertical-align: top;\n",
       "    }\n",
       "\n",
       "    .dataframe thead th {\n",
       "        text-align: right;\n",
       "    }\n",
       "</style>\n",
       "<table border=\"1\" class=\"dataframe\">\n",
       "  <thead>\n",
       "    <tr style=\"text-align: right;\">\n",
       "      <th></th>\n",
       "      <th>Mean</th>\n",
       "      <th>Vol</th>\n",
       "      <th>Sharpe</th>\n",
       "      <th>Skewness</th>\n",
       "      <th>Excess Kurtosis</th>\n",
       "      <th>VaR</th>\n",
       "      <th>Expected Shortfall</th>\n",
       "      <th>Max Drawdown</th>\n",
       "    </tr>\n",
       "  </thead>\n",
       "  <tbody>\n",
       "    <tr>\n",
       "      <th>PnL</th>\n",
       "      <td>761.5249</td>\n",
       "      <td>1188.885</td>\n",
       "      <td>0.6405</td>\n",
       "      <td>1.3207</td>\n",
       "      <td>3.9621</td>\n",
       "      <td>-528.1207</td>\n",
       "      <td>-1140.4611</td>\n",
       "      <td>-10858.1868</td>\n",
       "    </tr>\n",
       "  </tbody>\n",
       "</table>\n",
       "</div>"
      ],
      "text/plain": [
       "         Mean       Vol  Sharpe  Skewness  Excess Kurtosis       VaR  \\\n",
       "PnL  761.5249  1188.885  0.6405    1.3207           3.9621 -528.1207   \n",
       "\n",
       "     Expected Shortfall  Max Drawdown  \n",
       "PnL          -1140.4611   -10858.1868  "
      ]
     },
     "metadata": {},
     "output_type": "display_data"
    },
    {
     "name": "stdout",
     "output_type": "stream",
     "text": [
      "tau=1,T=2,j=0.01\n"
     ]
    },
    {
     "data": {
      "text/html": [
       "<div>\n",
       "<style scoped>\n",
       "    .dataframe tbody tr th:only-of-type {\n",
       "        vertical-align: middle;\n",
       "    }\n",
       "\n",
       "    .dataframe tbody tr th {\n",
       "        vertical-align: top;\n",
       "    }\n",
       "\n",
       "    .dataframe thead th {\n",
       "        text-align: right;\n",
       "    }\n",
       "</style>\n",
       "<table border=\"1\" class=\"dataframe\">\n",
       "  <thead>\n",
       "    <tr style=\"text-align: right;\">\n",
       "      <th></th>\n",
       "      <th>Mean</th>\n",
       "      <th>Vol</th>\n",
       "      <th>Sharpe</th>\n",
       "      <th>Skewness</th>\n",
       "      <th>Excess Kurtosis</th>\n",
       "      <th>VaR</th>\n",
       "      <th>Expected Shortfall</th>\n",
       "      <th>Max Drawdown</th>\n",
       "    </tr>\n",
       "  </thead>\n",
       "  <tbody>\n",
       "    <tr>\n",
       "      <th>PnL</th>\n",
       "      <td>629.2592</td>\n",
       "      <td>1070.8126</td>\n",
       "      <td>0.5876</td>\n",
       "      <td>2.1081</td>\n",
       "      <td>7.3302</td>\n",
       "      <td>0.0</td>\n",
       "      <td>-464.4495</td>\n",
       "      <td>-10683.4291</td>\n",
       "    </tr>\n",
       "  </tbody>\n",
       "</table>\n",
       "</div>"
      ],
      "text/plain": [
       "         Mean        Vol  Sharpe  Skewness  Excess Kurtosis  VaR  \\\n",
       "PnL  629.2592  1070.8126  0.5876    2.1081           7.3302  0.0   \n",
       "\n",
       "     Expected Shortfall  Max Drawdown  \n",
       "PnL           -464.4495   -10683.4291  "
      ]
     },
     "metadata": {},
     "output_type": "display_data"
    }
   ],
   "source": [
    "cum_PnL_df = pd.DataFrame(columns=['tau','T','j','cum_PnL'])\n",
    "\n",
    "for tau_i in tau_list:\n",
    "    for T_i in T_list:\n",
    "        for j_i in j_list:\n",
    "            l = len(cum_PnL_df.index)\n",
    "            cum_PnL_df.loc[l,'tau'] = tau_i\n",
    "            cum_PnL_df.loc[l,'T'] = T_i\n",
    "            cum_PnL_df.loc[l,'j'] = j_i\n",
    "            cum_PnL, rpt = calc_PnL(trades_btc_usd,tau_i,T_i,j_i,.2)\n",
    "            cum_PnL_df.loc[l,'cum_PnL'] = cum_PnL\n",
    "            cum_PnL_df.loc[l,'Sharpe Ratio'] = rpt.loc['Sharpe','PnL']\n",
    "            if rpt.loc['Sharpe','PnL'] > 0.5:\n",
    "                print('tau={},T={},j={}'.format(tau_i,T_i,j_i))\n",
    "                display(rpt.T)"
   ]
  },
  {
   "cell_type": "code",
   "execution_count": 71,
   "id": "af8d552d",
   "metadata": {},
   "outputs": [],
   "source": [
    "cum_PnL_df_1 = cum_PnL_df.dropna(axis=0)"
   ]
  },
  {
   "cell_type": "code",
   "execution_count": 72,
   "id": "c716818b",
   "metadata": {},
   "outputs": [
    {
     "data": {
      "text/plain": [
       "29"
      ]
     },
     "execution_count": 72,
     "metadata": {},
     "output_type": "execute_result"
    }
   ],
   "source": [
    "(cum_PnL_df_1['cum_PnL']>0).sum()"
   ]
  },
  {
   "cell_type": "code",
   "execution_count": 73,
   "id": "7e08c2c3",
   "metadata": {},
   "outputs": [
    {
     "data": {
      "text/plain": [
       "7"
      ]
     },
     "execution_count": 73,
     "metadata": {},
     "output_type": "execute_result"
    }
   ],
   "source": [
    "(cum_PnL_df_1['cum_PnL']<0).sum()"
   ]
  },
  {
   "cell_type": "markdown",
   "id": "f5a7e711",
   "metadata": {},
   "source": [
    "The strategy generates about 4 more times of positive cumulative PnL compared to negative ones"
   ]
  },
  {
   "cell_type": "code",
   "execution_count": 74,
   "id": "f1312225",
   "metadata": {},
   "outputs": [],
   "source": [
    "cum_PnL_df_1.sort_values(by='Sharpe Ratio',ascending=False, inplace=True)"
   ]
  },
  {
   "cell_type": "code",
   "execution_count": 75,
   "id": "d9c14a95",
   "metadata": {},
   "outputs": [
    {
     "data": {
      "text/html": [
       "<div>\n",
       "<style scoped>\n",
       "    .dataframe tbody tr th:only-of-type {\n",
       "        vertical-align: middle;\n",
       "    }\n",
       "\n",
       "    .dataframe tbody tr th {\n",
       "        vertical-align: top;\n",
       "    }\n",
       "\n",
       "    .dataframe thead th {\n",
       "        text-align: right;\n",
       "    }\n",
       "</style>\n",
       "<table border=\"1\" class=\"dataframe\">\n",
       "  <thead>\n",
       "    <tr style=\"text-align: right;\">\n",
       "      <th></th>\n",
       "      <th>tau</th>\n",
       "      <th>T</th>\n",
       "      <th>j</th>\n",
       "      <th>cum_PnL</th>\n",
       "      <th>Sharpe Ratio</th>\n",
       "    </tr>\n",
       "  </thead>\n",
       "  <tbody>\n",
       "    <tr>\n",
       "      <th>0</th>\n",
       "      <td>0.5</td>\n",
       "      <td>0.5</td>\n",
       "      <td>0.005</td>\n",
       "      <td>820645105.446565</td>\n",
       "      <td>0.6484</td>\n",
       "    </tr>\n",
       "    <tr>\n",
       "      <th>21</th>\n",
       "      <td>1</td>\n",
       "      <td>2</td>\n",
       "      <td>0.005</td>\n",
       "      <td>650536484.001608</td>\n",
       "      <td>0.6405</td>\n",
       "    </tr>\n",
       "    <tr>\n",
       "      <th>1</th>\n",
       "      <td>0.5</td>\n",
       "      <td>0.5</td>\n",
       "      <td>0.01</td>\n",
       "      <td>773494856.187589</td>\n",
       "      <td>0.6129</td>\n",
       "    </tr>\n",
       "    <tr>\n",
       "      <th>22</th>\n",
       "      <td>1</td>\n",
       "      <td>2</td>\n",
       "      <td>0.01</td>\n",
       "      <td>537547809.330974</td>\n",
       "      <td>0.5876</td>\n",
       "    </tr>\n",
       "    <tr>\n",
       "      <th>16</th>\n",
       "      <td>1</td>\n",
       "      <td>0.5</td>\n",
       "      <td>0.01</td>\n",
       "      <td>728621483.836726</td>\n",
       "      <td>0.5826</td>\n",
       "    </tr>\n",
       "    <tr>\n",
       "      <th>15</th>\n",
       "      <td>1</td>\n",
       "      <td>0.5</td>\n",
       "      <td>0.005</td>\n",
       "      <td>725968080.202169</td>\n",
       "      <td>0.5586</td>\n",
       "    </tr>\n",
       "    <tr>\n",
       "      <th>17</th>\n",
       "      <td>1</td>\n",
       "      <td>0.5</td>\n",
       "      <td>0.02</td>\n",
       "      <td>670195240.734492</td>\n",
       "      <td>0.5459</td>\n",
       "    </tr>\n",
       "    <tr>\n",
       "      <th>2</th>\n",
       "      <td>0.5</td>\n",
       "      <td>0.5</td>\n",
       "      <td>0.02</td>\n",
       "      <td>674246529.645562</td>\n",
       "      <td>0.5448</td>\n",
       "    </tr>\n",
       "    <tr>\n",
       "      <th>18</th>\n",
       "      <td>1</td>\n",
       "      <td>1</td>\n",
       "      <td>0.005</td>\n",
       "      <td>799909739.042218</td>\n",
       "      <td>0.4852</td>\n",
       "    </tr>\n",
       "    <tr>\n",
       "      <th>19</th>\n",
       "      <td>1</td>\n",
       "      <td>1</td>\n",
       "      <td>0.01</td>\n",
       "      <td>774847743.336241</td>\n",
       "      <td>0.4823</td>\n",
       "    </tr>\n",
       "    <tr>\n",
       "      <th>27</th>\n",
       "      <td>1</td>\n",
       "      <td>10</td>\n",
       "      <td>0.005</td>\n",
       "      <td>530154483.680382</td>\n",
       "      <td>0.4300</td>\n",
       "    </tr>\n",
       "    <tr>\n",
       "      <th>23</th>\n",
       "      <td>1</td>\n",
       "      <td>2</td>\n",
       "      <td>0.02</td>\n",
       "      <td>294300968.950785</td>\n",
       "      <td>0.4243</td>\n",
       "    </tr>\n",
       "    <tr>\n",
       "      <th>28</th>\n",
       "      <td>1</td>\n",
       "      <td>10</td>\n",
       "      <td>0.01</td>\n",
       "      <td>448452377.943694</td>\n",
       "      <td>0.4184</td>\n",
       "    </tr>\n",
       "    <tr>\n",
       "      <th>20</th>\n",
       "      <td>1</td>\n",
       "      <td>1</td>\n",
       "      <td>0.02</td>\n",
       "      <td>617873624.318161</td>\n",
       "      <td>0.4037</td>\n",
       "    </tr>\n",
       "    <tr>\n",
       "      <th>72</th>\n",
       "      <td>10</td>\n",
       "      <td>10</td>\n",
       "      <td>0.005</td>\n",
       "      <td>407070962.649832</td>\n",
       "      <td>0.3723</td>\n",
       "    </tr>\n",
       "    <tr>\n",
       "      <th>29</th>\n",
       "      <td>1</td>\n",
       "      <td>10</td>\n",
       "      <td>0.02</td>\n",
       "      <td>314253307.62695</td>\n",
       "      <td>0.3352</td>\n",
       "    </tr>\n",
       "    <tr>\n",
       "      <th>56</th>\n",
       "      <td>5</td>\n",
       "      <td>5</td>\n",
       "      <td>0.02</td>\n",
       "      <td>405979401.384367</td>\n",
       "      <td>0.3303</td>\n",
       "    </tr>\n",
       "    <tr>\n",
       "      <th>55</th>\n",
       "      <td>5</td>\n",
       "      <td>5</td>\n",
       "      <td>0.01</td>\n",
       "      <td>384927037.847106</td>\n",
       "      <td>0.2915</td>\n",
       "    </tr>\n",
       "    <tr>\n",
       "      <th>73</th>\n",
       "      <td>10</td>\n",
       "      <td>10</td>\n",
       "      <td>0.01</td>\n",
       "      <td>198336205.578437</td>\n",
       "      <td>0.2886</td>\n",
       "    </tr>\n",
       "    <tr>\n",
       "      <th>71</th>\n",
       "      <td>10</td>\n",
       "      <td>5</td>\n",
       "      <td>0.02</td>\n",
       "      <td>231815869.016968</td>\n",
       "      <td>0.2885</td>\n",
       "    </tr>\n",
       "    <tr>\n",
       "      <th>54</th>\n",
       "      <td>5</td>\n",
       "      <td>5</td>\n",
       "      <td>0.005</td>\n",
       "      <td>370472931.859309</td>\n",
       "      <td>0.2693</td>\n",
       "    </tr>\n",
       "    <tr>\n",
       "      <th>24</th>\n",
       "      <td>1</td>\n",
       "      <td>5</td>\n",
       "      <td>0.005</td>\n",
       "      <td>238456541.957988</td>\n",
       "      <td>0.1744</td>\n",
       "    </tr>\n",
       "    <tr>\n",
       "      <th>25</th>\n",
       "      <td>1</td>\n",
       "      <td>5</td>\n",
       "      <td>0.01</td>\n",
       "      <td>211689798.191536</td>\n",
       "      <td>0.1682</td>\n",
       "    </tr>\n",
       "    <tr>\n",
       "      <th>9</th>\n",
       "      <td>0.5</td>\n",
       "      <td>5</td>\n",
       "      <td>0.005</td>\n",
       "      <td>199329257.310268</td>\n",
       "      <td>0.1552</td>\n",
       "    </tr>\n",
       "    <tr>\n",
       "      <th>26</th>\n",
       "      <td>1</td>\n",
       "      <td>5</td>\n",
       "      <td>0.02</td>\n",
       "      <td>144994311.519965</td>\n",
       "      <td>0.1340</td>\n",
       "    </tr>\n",
       "    <tr>\n",
       "      <th>41</th>\n",
       "      <td>2</td>\n",
       "      <td>5</td>\n",
       "      <td>0.02</td>\n",
       "      <td>73918077.418228</td>\n",
       "      <td>0.0864</td>\n",
       "    </tr>\n",
       "    <tr>\n",
       "      <th>69</th>\n",
       "      <td>10</td>\n",
       "      <td>5</td>\n",
       "      <td>0.005</td>\n",
       "      <td>86380307.952636</td>\n",
       "      <td>0.0693</td>\n",
       "    </tr>\n",
       "    <tr>\n",
       "      <th>10</th>\n",
       "      <td>0.5</td>\n",
       "      <td>5</td>\n",
       "      <td>0.01</td>\n",
       "      <td>44627054.70263</td>\n",
       "      <td>0.0404</td>\n",
       "    </tr>\n",
       "    <tr>\n",
       "      <th>70</th>\n",
       "      <td>10</td>\n",
       "      <td>5</td>\n",
       "      <td>0.01</td>\n",
       "      <td>5469540.053052</td>\n",
       "      <td>0.0049</td>\n",
       "    </tr>\n",
       "    <tr>\n",
       "      <th>11</th>\n",
       "      <td>0.5</td>\n",
       "      <td>5</td>\n",
       "      <td>0.02</td>\n",
       "      <td>-87155380.834236</td>\n",
       "      <td>-0.0942</td>\n",
       "    </tr>\n",
       "    <tr>\n",
       "      <th>40</th>\n",
       "      <td>2</td>\n",
       "      <td>5</td>\n",
       "      <td>0.01</td>\n",
       "      <td>-143063226.974446</td>\n",
       "      <td>-0.1359</td>\n",
       "    </tr>\n",
       "    <tr>\n",
       "      <th>30</th>\n",
       "      <td>2</td>\n",
       "      <td>0.5</td>\n",
       "      <td>0.005</td>\n",
       "      <td>-35857449.888508</td>\n",
       "      <td>-0.1525</td>\n",
       "    </tr>\n",
       "    <tr>\n",
       "      <th>39</th>\n",
       "      <td>2</td>\n",
       "      <td>5</td>\n",
       "      <td>0.005</td>\n",
       "      <td>-271651778.648272</td>\n",
       "      <td>-0.2319</td>\n",
       "    </tr>\n",
       "    <tr>\n",
       "      <th>62</th>\n",
       "      <td>10</td>\n",
       "      <td>0.5</td>\n",
       "      <td>0.02</td>\n",
       "      <td>-489904413.641202</td>\n",
       "      <td>-0.4160</td>\n",
       "    </tr>\n",
       "    <tr>\n",
       "      <th>61</th>\n",
       "      <td>10</td>\n",
       "      <td>0.5</td>\n",
       "      <td>0.01</td>\n",
       "      <td>-557408521.46275</td>\n",
       "      <td>-0.4462</td>\n",
       "    </tr>\n",
       "    <tr>\n",
       "      <th>60</th>\n",
       "      <td>10</td>\n",
       "      <td>0.5</td>\n",
       "      <td>0.005</td>\n",
       "      <td>-597532877.70818</td>\n",
       "      <td>-0.4708</td>\n",
       "    </tr>\n",
       "  </tbody>\n",
       "</table>\n",
       "</div>"
      ],
      "text/plain": [
       "    tau    T      j           cum_PnL  Sharpe Ratio\n",
       "0   0.5  0.5  0.005  820645105.446565        0.6484\n",
       "21    1    2  0.005  650536484.001608        0.6405\n",
       "1   0.5  0.5   0.01  773494856.187589        0.6129\n",
       "22    1    2   0.01  537547809.330974        0.5876\n",
       "16    1  0.5   0.01  728621483.836726        0.5826\n",
       "15    1  0.5  0.005  725968080.202169        0.5586\n",
       "17    1  0.5   0.02  670195240.734492        0.5459\n",
       "2   0.5  0.5   0.02  674246529.645562        0.5448\n",
       "18    1    1  0.005  799909739.042218        0.4852\n",
       "19    1    1   0.01  774847743.336241        0.4823\n",
       "27    1   10  0.005  530154483.680382        0.4300\n",
       "23    1    2   0.02  294300968.950785        0.4243\n",
       "28    1   10   0.01  448452377.943694        0.4184\n",
       "20    1    1   0.02  617873624.318161        0.4037\n",
       "72   10   10  0.005  407070962.649832        0.3723\n",
       "29    1   10   0.02   314253307.62695        0.3352\n",
       "56    5    5   0.02  405979401.384367        0.3303\n",
       "55    5    5   0.01  384927037.847106        0.2915\n",
       "73   10   10   0.01  198336205.578437        0.2886\n",
       "71   10    5   0.02  231815869.016968        0.2885\n",
       "54    5    5  0.005  370472931.859309        0.2693\n",
       "24    1    5  0.005  238456541.957988        0.1744\n",
       "25    1    5   0.01  211689798.191536        0.1682\n",
       "9   0.5    5  0.005  199329257.310268        0.1552\n",
       "26    1    5   0.02  144994311.519965        0.1340\n",
       "41    2    5   0.02   73918077.418228        0.0864\n",
       "69   10    5  0.005   86380307.952636        0.0693\n",
       "10  0.5    5   0.01    44627054.70263        0.0404\n",
       "70   10    5   0.01    5469540.053052        0.0049\n",
       "11  0.5    5   0.02  -87155380.834236       -0.0942\n",
       "40    2    5   0.01 -143063226.974446       -0.1359\n",
       "30    2  0.5  0.005  -35857449.888508       -0.1525\n",
       "39    2    5  0.005 -271651778.648272       -0.2319\n",
       "62   10  0.5   0.02 -489904413.641202       -0.4160\n",
       "61   10  0.5   0.01  -557408521.46275       -0.4462\n",
       "60   10  0.5  0.005  -597532877.70818       -0.4708"
      ]
     },
     "execution_count": 75,
     "metadata": {},
     "output_type": "execute_result"
    }
   ],
   "source": [
    "cum_PnL_df_1"
   ]
  },
  {
   "cell_type": "markdown",
   "id": "6511ca72",
   "metadata": {},
   "source": [
    "The highest Sharpe Ratio is about 0.6484, which implies that the return is not that promising compared to its volatilities. When tau and T are closer to each other, the cumulative PnL is generally larger than larger differences"
   ]
  },
  {
   "cell_type": "code",
   "execution_count": 76,
   "id": "d0ad953d",
   "metadata": {},
   "outputs": [
    {
     "data": {
      "text/plain": [
       "<matplotlib.collections.PathCollection at 0x7fc665e2b700>"
      ]
     },
     "execution_count": 76,
     "metadata": {},
     "output_type": "execute_result"
    },
    {
     "data": {
      "image/png": "[encoded data removed]",
      "text/plain": [
       "<Figure size 432x288 with 1 Axes>"
      ]
     },
     "metadata": {
      "needs_background": "light"
     },
     "output_type": "display_data"
    }
   ],
   "source": [
    "plt.scatter(cum_PnL_df_1['cum_PnL'],cum_PnL_df_1['Sharpe Ratio'])"
   ]
  },
  {
   "cell_type": "markdown",
   "id": "f30ff950",
   "metadata": {},
   "source": [
    "Fixing the training dataset, cum_PnL increases as Sharpe Ratio increases"
   ]
  }
 ],
 "metadata": {
  "kernelspec": {
   "display_name": "Python 3",
   "language": "python",
   "name": "python3"
  },
  "language_info": {
   "codemirror_mode": {
    "name": "ipython",
    "version": 3
   },
   "file_extension": ".py",
   "mimetype": "text/x-python",
   "name": "python",
   "nbconvert_exporter": "python",
   "pygments_lexer": "ipython3",
   "version": "3.8.8"
  }
 },
 "nbformat": 4,
 "nbformat_minor": 5
}
